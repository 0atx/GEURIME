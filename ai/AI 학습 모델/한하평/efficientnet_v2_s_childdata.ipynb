{
 "cells": [
  {
   "cell_type": "code",
   "execution_count": 1,
   "id": "3e9ae687",
   "metadata": {
    "scrolled": true
   },
   "outputs": [],
   "source": [
    "# Import libraries\n",
    "import pandas as pd\n",
    "import numpy as np\n",
    "import matplotlib.pyplot as plt\n",
    "import json\n",
    "import os\n",
    "from tqdm import tqdm, tqdm_notebook\n",
    "import random\n",
    "\n",
    "import tensorflow as tf\n",
    "from tensorflow.keras.models import Sequential, Model\n",
    "from tensorflow.keras.layers import *\n",
    "from tensorflow.keras.optimizers import *\n",
    "from tensorflow.keras.applications import *\n",
    "from tensorflow.keras.callbacks import *\n",
    "from tensorflow.keras.initializers import *\n",
    "from tensorflow.keras.preprocessing.image import ImageDataGenerator\n",
    "from tensorflow.keras.applications.efficientnet_v2 import EfficientNetV2S\n",
    "\n",
    "from numpy.random import seed\n",
    "seed(1)\n",
    "from tensorflow.random import set_seed\n",
    "set_seed(1)"
   ]
  },
  {
   "cell_type": "code",
   "execution_count": 3,
   "id": "de1bdc99",
   "metadata": {},
   "outputs": [
    {
     "name": "stdout",
     "output_type": "stream",
     "text": [
      "['depression', 'violence', 'happiness']\n"
     ]
    }
   ],
   "source": [
    "print(os.listdir(\"../test_img\"))"
   ]
  },
  {
   "cell_type": "code",
   "execution_count": 5,
   "id": "d6d79b73",
   "metadata": {},
   "outputs": [
    {
     "data": {
      "text/plain": [
       "['depression', 'violence', 'happiness']"
      ]
     },
     "execution_count": 5,
     "metadata": {},
     "output_type": "execute_result"
    }
   ],
   "source": [
    "images_dir = \"../test_img\"\n",
    "emotion_dirs = os.listdir(images_dir)\n",
    "emotion_dirs"
   ]
  },
  {
   "cell_type": "code",
   "execution_count": 6,
   "id": "29d9b33f",
   "metadata": {},
   "outputs": [
    {
     "data": {
      "text/plain": [
       "191"
      ]
     },
     "execution_count": 6,
     "metadata": {},
     "output_type": "execute_result"
    }
   ],
   "source": [
    "86+69 + 36"
   ]
  },
  {
   "cell_type": "code",
   "execution_count": 7,
   "id": "827e6b24",
   "metadata": {},
   "outputs": [
    {
     "data": {
      "text/plain": [
       "{0: 0.7403100775193798, 1: 0.9227053140096618, 2: 1.7685185185185186}"
      ]
     },
     "execution_count": 7,
     "metadata": {},
     "output_type": "execute_result"
    }
   ],
   "source": [
    "weight = {'depression' : 86, 'violence': 69, 'happiness':36}\n",
    "class_weights = {}\n",
    "for i in range(3):\n",
    "    w = 191 / (3 * weight[emotion_dirs[i]])\n",
    "    class_weights[i] = w \n",
    "class_weights"
   ]
  },
  {
   "cell_type": "code",
   "execution_count": 14,
   "id": "f4243659",
   "metadata": {},
   "outputs": [
    {
     "name": "stdout",
     "output_type": "stream",
     "text": [
      "Found 154 images belonging to 3 classes.\n",
      "Found 38 images belonging to 3 classes.\n",
      "Total number of batches = 9 and 2\n"
     ]
    }
   ],
   "source": [
    "batch_size = 16\n",
    "train_input_shape = (224, 224, 3)\n",
    "n_classes = 3\n",
    "\n",
    "train_datagen = ImageDataGenerator(validation_split=0.2,\n",
    "                                   rescale=1./255.,\n",
    "                                   #rotation_range=45,\n",
    "                                   #width_shift_range=0.5,\n",
    "                                   #height_shift_range=0.5,\n",
    "                                   shear_range=5,\n",
    "                                   #zoom_range=0.7,\n",
    "                                   horizontal_flip=True,\n",
    "                                   vertical_flip=True,\n",
    "                                  )\n",
    "\n",
    "train_generator = train_datagen.flow_from_directory(directory=images_dir,\n",
    "                                                    class_mode='categorical',\n",
    "                                                    target_size=train_input_shape[0:2],\n",
    "                                                    batch_size=batch_size,\n",
    "                                                    subset=\"training\",\n",
    "                                                    shuffle=True,\n",
    "                                                    classes=emotion_dirs\n",
    "                                                   )\n",
    "\n",
    "valid_generator = train_datagen.flow_from_directory(directory=images_dir,\n",
    "                                                    class_mode='categorical',\n",
    "                                                    target_size=train_input_shape[0:2],\n",
    "                                                    batch_size=batch_size,\n",
    "                                                    subset=\"validation\",\n",
    "                                                    shuffle=True,\n",
    "                                                    classes=emotion_dirs\n",
    "                                                   )\n",
    "\n",
    "STEP_SIZE_TRAIN = train_generator.n//train_generator.batch_size\n",
    "STEP_SIZE_VALID = valid_generator.n//valid_generator.batch_size\n",
    "print(\"Total number of batches =\", STEP_SIZE_TRAIN, \"and\", STEP_SIZE_VALID)"
   ]
  },
  {
   "cell_type": "code",
   "execution_count": 15,
   "id": "7907f7b6",
   "metadata": {},
   "outputs": [],
   "source": [
    "# Load pre-trained model\n",
    "base_model = EfficientNetV2S(weights='imagenet', include_top=False, input_shape=train_input_shape)\n",
    "\n",
    "for layer in base_model.layers:\n",
    "    layer.trainable = True"
   ]
  },
  {
   "cell_type": "code",
   "execution_count": 16,
   "id": "a910d77e",
   "metadata": {},
   "outputs": [],
   "source": [
    "# Add layers at the end\n",
    "X = base_model.output\n",
    "X = Flatten()(X)\n",
    "\n",
    "X = Dense(512, kernel_initializer='he_uniform')(X)\n",
    "#X = Dropout(0.5)(X)\n",
    "X = BatchNormalization()(X)\n",
    "X = Activation('relu')(X)\n",
    "\n",
    "X = Dense(16, kernel_initializer='he_uniform')(X)\n",
    "#X = Dropout(0.5)(X)\n",
    "X = BatchNormalization()(X)\n",
    "X = Activation('relu')(X)\n",
    "\n",
    "output = Dense(n_classes, activation='softmax')(X)\n",
    "\n",
    "model = Model(inputs=base_model.input, outputs=output)"
   ]
  },
  {
   "cell_type": "code",
   "execution_count": 17,
   "id": "0bcf688f",
   "metadata": {},
   "outputs": [],
   "source": [
    "optimizer = Adam(learning_rate=0.0001)\n",
    "model.compile(loss='categorical_crossentropy',\n",
    "              optimizer=optimizer, \n",
    "              metrics=['accuracy'])"
   ]
  },
  {
   "cell_type": "code",
   "execution_count": 18,
   "id": "6d72866d",
   "metadata": {},
   "outputs": [],
   "source": [
    "n_epoch = 20\n",
    "\n",
    "early_stop = EarlyStopping(monitor='val_loss', patience=20, verbose=1, \n",
    "                           mode='auto', restore_best_weights=True)\n",
    "\n",
    "reduce_lr = ReduceLROnPlateau(monitor='val_loss', factor=0.1, patience=5, \n",
    "                              verbose=1, mode='auto')"
   ]
  },
  {
   "cell_type": "code",
   "execution_count": 19,
   "id": "36fa076d",
   "metadata": {
    "scrolled": false
   },
   "outputs": [
    {
     "name": "stderr",
     "output_type": "stream",
     "text": [
      "/tmp/ipykernel_3618682/4005977698.py:2: UserWarning: `Model.fit_generator` is deprecated and will be removed in a future version. Please use `Model.fit`, which supports generators.\n",
      "  history1 = model.fit_generator(generator=train_generator, steps_per_epoch=STEP_SIZE_TRAIN,\n"
     ]
    },
    {
     "name": "stdout",
     "output_type": "stream",
     "text": [
      "Epoch 1/20\n",
      "9/9 [==============================] - 180s 6s/step - loss: 1.4483 - accuracy: 0.2464 - val_loss: 3.8418 - val_accuracy: 0.4062 - lr: 1.0000e-04\n",
      "Epoch 2/20\n",
      "9/9 [==============================] - 157s 5s/step - loss: 1.0977 - accuracy: 0.3913 - val_loss: 3.0036 - val_accuracy: 0.1875 - lr: 1.0000e-04\n",
      "Epoch 3/20\n",
      "9/9 [==============================] - 171s 6s/step - loss: 0.9388 - accuracy: 0.4444 - val_loss: 1.8894 - val_accuracy: 0.2188 - lr: 1.0000e-04\n",
      "Epoch 4/20\n",
      "9/9 [==============================] - 175s 6s/step - loss: 0.8645 - accuracy: 0.5435 - val_loss: 1.6261 - val_accuracy: 0.2188 - lr: 1.0000e-04\n",
      "Epoch 5/20\n",
      "9/9 [==============================] - 176s 6s/step - loss: 0.6902 - accuracy: 0.6667 - val_loss: 1.4566 - val_accuracy: 0.3125 - lr: 1.0000e-04\n",
      "Epoch 6/20\n",
      "9/9 [==============================] - 179s 6s/step - loss: 0.5865 - accuracy: 0.7029 - val_loss: 1.1501 - val_accuracy: 0.4688 - lr: 1.0000e-04\n",
      "Epoch 7/20\n",
      "9/9 [==============================] - 189s 7s/step - loss: 0.5726 - accuracy: 0.7246 - val_loss: 1.1400 - val_accuracy: 0.4062 - lr: 1.0000e-04\n",
      "Epoch 8/20\n",
      "9/9 [==============================] - 196s 7s/step - loss: 0.4741 - accuracy: 0.8333 - val_loss: 1.1606 - val_accuracy: 0.5000 - lr: 1.0000e-04\n",
      "Epoch 9/20\n",
      "9/9 [==============================] - 191s 9s/step - loss: 0.4886 - accuracy: 0.8116 - val_loss: 1.3284 - val_accuracy: 0.4375 - lr: 1.0000e-04\n",
      "Epoch 10/20\n",
      "9/9 [==============================] - 196s 7s/step - loss: 0.3627 - accuracy: 0.9058 - val_loss: 1.2757 - val_accuracy: 0.5938 - lr: 1.0000e-04\n",
      "Epoch 11/20\n",
      "9/9 [==============================] - 205s 12s/step - loss: 0.3824 - accuracy: 0.8889 - val_loss: 1.3581 - val_accuracy: 0.5625 - lr: 1.0000e-04\n",
      "Epoch 12/20\n",
      "9/9 [==============================] - ETA: 0s - loss: 0.3505 - accuracy: 0.9203 \n",
      "Epoch 12: ReduceLROnPlateau reducing learning rate to 9.999999747378752e-06.\n",
      "9/9 [==============================] - 207s 11s/step - loss: 0.3505 - accuracy: 0.9203 - val_loss: 1.5502 - val_accuracy: 0.3750 - lr: 1.0000e-04\n",
      "Epoch 13/20\n",
      "9/9 [==============================] - 214s 12s/step - loss: 0.3655 - accuracy: 0.9058 - val_loss: 1.3878 - val_accuracy: 0.4375 - lr: 1.0000e-05\n",
      "Epoch 14/20\n",
      "9/9 [==============================] - 222s 13s/step - loss: 0.4150 - accuracy: 0.8551 - val_loss: 1.2421 - val_accuracy: 0.4688 - lr: 1.0000e-05\n",
      "Epoch 15/20\n",
      "9/9 [==============================] - 214s 12s/step - loss: 0.3108 - accuracy: 0.9493 - val_loss: 1.3586 - val_accuracy: 0.4375 - lr: 1.0000e-05\n",
      "Epoch 16/20\n",
      "9/9 [==============================] - 211s 11s/step - loss: 0.3219 - accuracy: 0.9203 - val_loss: 1.4068 - val_accuracy: 0.4375 - lr: 1.0000e-05\n",
      "Epoch 17/20\n",
      "9/9 [==============================] - ETA: 0s - loss: 0.3206 - accuracy: 0.9420 \n",
      "Epoch 17: ReduceLROnPlateau reducing learning rate to 9.999999747378752e-07.\n",
      "9/9 [==============================] - 221s 12s/step - loss: 0.3206 - accuracy: 0.9420 - val_loss: 1.2203 - val_accuracy: 0.5625 - lr: 1.0000e-05\n",
      "Epoch 18/20\n",
      "9/9 [==============================] - 232s 18s/step - loss: 0.2960 - accuracy: 0.9565 - val_loss: 1.4978 - val_accuracy: 0.4375 - lr: 1.0000e-06\n",
      "Epoch 19/20\n",
      "9/9 [==============================] - 231s 15s/step - loss: 0.3422 - accuracy: 0.9130 - val_loss: 1.2501 - val_accuracy: 0.5000 - lr: 1.0000e-06\n",
      "Epoch 20/20\n",
      "9/9 [==============================] - 232s 15s/step - loss: 0.3659 - accuracy: 0.8819 - val_loss: 1.5383 - val_accuracy: 0.4688 - lr: 1.0000e-06\n"
     ]
    }
   ],
   "source": [
    "# Train the model - all layers\n",
    "history1 = model.fit_generator(generator=train_generator, steps_per_epoch=STEP_SIZE_TRAIN,\n",
    "                              validation_data=valid_generator, validation_steps=STEP_SIZE_VALID,\n",
    "                              epochs=n_epoch,\n",
    "                              shuffle=True,\n",
    "                              verbose=1,\n",
    "                              callbacks=[reduce_lr],\n",
    "                              use_multiprocessing=True,\n",
    "                              workers=16,\n",
    "                              class_weight=class_weights\n",
    "                             )"
   ]
  },
  {
   "cell_type": "code",
   "execution_count": 20,
   "id": "7bea00cd",
   "metadata": {},
   "outputs": [
    {
     "name": "stderr",
     "output_type": "stream",
     "text": [
      "/home/jupyter-k7a506/.local/lib/python3.9/site-packages/keras/optimizers/optimizer_v2/adam.py:110: UserWarning: The `lr` argument is deprecated, use `learning_rate` instead.\n",
      "  super(Adam, self).__init__(name, **kwargs)\n",
      "/tmp/ipykernel_3618682/2442743920.py:15: UserWarning: `Model.fit_generator` is deprecated and will be removed in a future version. Please use `Model.fit`, which supports generators.\n",
      "  history2 = model.fit_generator(generator=train_generator, steps_per_epoch=STEP_SIZE_TRAIN,\n"
     ]
    },
    {
     "name": "stdout",
     "output_type": "stream",
     "text": [
      "Epoch 1/50\n",
      "9/9 [==============================] - 249s 19s/step - loss: 0.2472 - accuracy: 0.9638 - val_loss: 1.3144 - val_accuracy: 0.5312 - lr: 1.0000e-04\n",
      "Epoch 2/50\n",
      "9/9 [==============================] - 248s 18s/step - loss: 0.2233 - accuracy: 0.9928 - val_loss: 1.1830 - val_accuracy: 0.5312 - lr: 1.0000e-04\n",
      "Epoch 3/50\n",
      "9/9 [==============================] - 258s 22s/step - loss: 0.2370 - accuracy: 0.9855 - val_loss: 1.0395 - val_accuracy: 0.5625 - lr: 1.0000e-04\n",
      "Epoch 4/50\n",
      "9/9 [==============================] - 250s 21s/step - loss: 0.2605 - accuracy: 0.9638 - val_loss: 1.2882 - val_accuracy: 0.5000 - lr: 1.0000e-04\n",
      "Epoch 5/50\n",
      "9/9 [==============================] - 253s 18s/step - loss: 0.2422 - accuracy: 0.9653 - val_loss: 1.2327 - val_accuracy: 0.5000 - lr: 1.0000e-04\n",
      "Epoch 6/50\n",
      "9/9 [==============================] - 257s 19s/step - loss: 0.2444 - accuracy: 0.9783 - val_loss: 1.3022 - val_accuracy: 0.4375 - lr: 1.0000e-04\n",
      "Epoch 7/50\n",
      "9/9 [==============================] - 272s 23s/step - loss: 0.2179 - accuracy: 0.9783 - val_loss: 1.1592 - val_accuracy: 0.5312 - lr: 1.0000e-04\n",
      "Epoch 8/50\n",
      "9/9 [==============================] - ETA: 0s - loss: 0.1954 - accuracy: 0.9710 \n",
      "Epoch 8: ReduceLROnPlateau reducing learning rate to 9.999999747378752e-06.\n",
      "9/9 [==============================] - 264s 22s/step - loss: 0.1954 - accuracy: 0.9710 - val_loss: 1.0744 - val_accuracy: 0.5625 - lr: 1.0000e-04\n",
      "Epoch 9/50\n",
      "9/9 [==============================] - 263s 25s/step - loss: 0.2139 - accuracy: 0.9710 - val_loss: 1.2109 - val_accuracy: 0.5625 - lr: 1.0000e-05\n",
      "Epoch 10/50\n",
      "9/9 [==============================] - 259s 19s/step - loss: 0.1902 - accuracy: 1.0000 - val_loss: 1.2589 - val_accuracy: 0.4688 - lr: 1.0000e-05\n",
      "Epoch 11/50\n",
      "9/9 [==============================] - 264s 22s/step - loss: 0.2320 - accuracy: 0.9783 - val_loss: 1.5221 - val_accuracy: 0.4375 - lr: 1.0000e-05\n",
      "Epoch 12/50\n",
      "9/9 [==============================] - 264s 22s/step - loss: 0.1996 - accuracy: 0.9783 - val_loss: 1.1089 - val_accuracy: 0.5000 - lr: 1.0000e-05\n",
      "Epoch 13/50\n",
      "9/9 [==============================] - ETA: 0s - loss: 0.2035 - accuracy: 0.9928 \n",
      "Epoch 13: ReduceLROnPlateau reducing learning rate to 9.999999747378752e-07.\n",
      "9/9 [==============================] - 264s 22s/step - loss: 0.2035 - accuracy: 0.9928 - val_loss: 1.2762 - val_accuracy: 0.4062 - lr: 1.0000e-05\n",
      "Epoch 14/50\n",
      "9/9 [==============================] - 263s 22s/step - loss: 0.2154 - accuracy: 0.9928 - val_loss: 1.1732 - val_accuracy: 0.4375 - lr: 1.0000e-06\n",
      "Epoch 15/50\n",
      "9/9 [==============================] - 267s 22s/step - loss: 0.1971 - accuracy: 0.9931 - val_loss: 1.5835 - val_accuracy: 0.3438 - lr: 1.0000e-06\n",
      "Epoch 16/50\n",
      "9/9 [==============================] - 272s 23s/step - loss: 0.1857 - accuracy: 1.0000 - val_loss: 1.2675 - val_accuracy: 0.4062 - lr: 1.0000e-06\n",
      "Epoch 17/50\n",
      "9/9 [==============================] - 278s 23s/step - loss: 0.2161 - accuracy: 0.9855 - val_loss: 1.4226 - val_accuracy: 0.5000 - lr: 1.0000e-06\n",
      "Epoch 18/50\n",
      "9/9 [==============================] - ETA: 0s - loss: 0.2085 - accuracy: 0.9855 \n",
      "Epoch 18: ReduceLROnPlateau reducing learning rate to 9.999999974752428e-08.\n",
      "9/9 [==============================] - 281s 24s/step - loss: 0.2085 - accuracy: 0.9855 - val_loss: 1.3512 - val_accuracy: 0.5625 - lr: 1.0000e-06\n",
      "Epoch 19/50\n",
      "9/9 [==============================] - 282s 24s/step - loss: 0.2103 - accuracy: 1.0000 - val_loss: 1.0440 - val_accuracy: 0.5938 - lr: 1.0000e-07\n",
      "Epoch 20/50\n",
      "9/9 [==============================] - 272s 23s/step - loss: 0.1966 - accuracy: 0.9792 - val_loss: 1.2995 - val_accuracy: 0.4688 - lr: 1.0000e-07\n",
      "Epoch 21/50\n",
      "9/9 [==============================] - 278s 23s/step - loss: 0.2055 - accuracy: 0.9928 - val_loss: 1.2350 - val_accuracy: 0.5000 - lr: 1.0000e-07\n",
      "Epoch 22/50\n",
      "9/9 [==============================] - 288s 24s/step - loss: 0.2248 - accuracy: 0.9855 - val_loss: 1.4582 - val_accuracy: 0.4062 - lr: 1.0000e-07\n",
      "Epoch 23/50\n",
      "9/9 [==============================] - ETA: 0s - loss: 0.1950 - accuracy: 0.9928 \n",
      "Epoch 23: ReduceLROnPlateau reducing learning rate to 1.0000000116860975e-08.\n",
      "Restoring model weights from the end of the best epoch: 3.\n",
      "9/9 [==============================] - 281s 23s/step - loss: 0.1950 - accuracy: 0.9928 - val_loss: 1.3030 - val_accuracy: 0.5312 - lr: 1.0000e-07\n",
      "Epoch 23: early stopping\n"
     ]
    }
   ],
   "source": [
    "# Freeze core ResNet layers and train again \n",
    "for layer in model.layers:\n",
    "    layer.trainable = False\n",
    "\n",
    "for layer in model.layers[:50]:\n",
    "    layer.trainable = True\n",
    "\n",
    "optimizer = Adam(lr=0.0001)\n",
    "\n",
    "model.compile(loss='categorical_crossentropy',\n",
    "              optimizer=optimizer, \n",
    "              metrics=['accuracy'])\n",
    "\n",
    "n_epoch = 50\n",
    "history2 = model.fit_generator(generator=train_generator, steps_per_epoch=STEP_SIZE_TRAIN,\n",
    "                              validation_data=valid_generator, validation_steps=STEP_SIZE_VALID,\n",
    "                              epochs=n_epoch,\n",
    "                              shuffle=True,\n",
    "                              verbose=1,\n",
    "                              callbacks=[reduce_lr, early_stop],\n",
    "                              use_multiprocessing=True,\n",
    "                              workers=16,\n",
    "                              class_weight=class_weights\n",
    "                             )"
   ]
  },
  {
   "cell_type": "code",
   "execution_count": 21,
   "id": "ea2b07ef",
   "metadata": {},
   "outputs": [],
   "source": [
    "model.save('efficientnet_v2_s_childdata.h5')"
   ]
  },
  {
   "cell_type": "code",
   "execution_count": null,
   "id": "15e7bb36",
   "metadata": {},
   "outputs": [],
   "source": []
  },
  {
   "cell_type": "code",
   "execution_count": null,
   "id": "265d0127",
   "metadata": {},
   "outputs": [],
   "source": []
  },
  {
   "cell_type": "code",
   "execution_count": null,
   "id": "8be53425",
   "metadata": {},
   "outputs": [],
   "source": []
  },
  {
   "cell_type": "code",
   "execution_count": null,
   "id": "ea090bc3",
   "metadata": {},
   "outputs": [],
   "source": []
  },
  {
   "cell_type": "code",
   "execution_count": null,
   "id": "1c035744",
   "metadata": {},
   "outputs": [],
   "source": []
  },
  {
   "cell_type": "code",
   "execution_count": null,
   "id": "e90c489e",
   "metadata": {},
   "outputs": [],
   "source": []
  },
  {
   "cell_type": "code",
   "execution_count": null,
   "id": "c63e146e",
   "metadata": {},
   "outputs": [],
   "source": []
  },
  {
   "cell_type": "code",
   "execution_count": null,
   "id": "57db00e0",
   "metadata": {},
   "outputs": [],
   "source": []
  },
  {
   "cell_type": "code",
   "execution_count": null,
   "id": "94624d86",
   "metadata": {},
   "outputs": [],
   "source": []
  },
  {
   "cell_type": "code",
   "execution_count": null,
   "id": "77ae84a7",
   "metadata": {},
   "outputs": [],
   "source": []
  },
  {
   "cell_type": "code",
   "execution_count": null,
   "id": "f71743e7",
   "metadata": {},
   "outputs": [],
   "source": []
  },
  {
   "cell_type": "code",
   "execution_count": null,
   "id": "250f4705",
   "metadata": {},
   "outputs": [],
   "source": []
  },
  {
   "cell_type": "code",
   "execution_count": null,
   "id": "06ce10ec",
   "metadata": {},
   "outputs": [],
   "source": []
  },
  {
   "cell_type": "code",
   "execution_count": null,
   "id": "dbdaf578",
   "metadata": {},
   "outputs": [],
   "source": []
  },
  {
   "cell_type": "code",
   "execution_count": null,
   "id": "171d2e7a",
   "metadata": {},
   "outputs": [],
   "source": []
  },
  {
   "cell_type": "code",
   "execution_count": null,
   "id": "5af9509b",
   "metadata": {},
   "outputs": [],
   "source": []
  },
  {
   "cell_type": "code",
   "execution_count": null,
   "id": "b780983c",
   "metadata": {},
   "outputs": [],
   "source": []
  },
  {
   "cell_type": "code",
   "execution_count": null,
   "id": "eaff8819",
   "metadata": {},
   "outputs": [],
   "source": []
  },
  {
   "cell_type": "code",
   "execution_count": null,
   "id": "2d078729",
   "metadata": {},
   "outputs": [],
   "source": []
  },
  {
   "cell_type": "code",
   "execution_count": null,
   "id": "97368d30",
   "metadata": {},
   "outputs": [],
   "source": []
  }
 ],
 "metadata": {
  "kernelspec": {
   "display_name": "Python 3 (ipykernel)",
   "language": "python",
   "name": "python3"
  },
  "language_info": {
   "codemirror_mode": {
    "name": "ipython",
    "version": 3
   },
   "file_extension": ".py",
   "mimetype": "text/x-python",
   "name": "python",
   "nbconvert_exporter": "python",
   "pygments_lexer": "ipython3",
   "version": "3.9.7"
  }
 },
 "nbformat": 4,
 "nbformat_minor": 5
}
