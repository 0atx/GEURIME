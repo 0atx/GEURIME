{
 "cells": [
  {
   "cell_type": "code",
   "execution_count": 7,
   "id": "3e9ae687",
   "metadata": {
    "scrolled": true
   },
   "outputs": [],
   "source": [
    "# Import libraries\n",
    "import pandas as pd\n",
    "import numpy as np\n",
    "import matplotlib.pyplot as plt\n",
    "import json\n",
    "import os\n",
    "from tqdm import tqdm, tqdm_notebook\n",
    "import random\n",
    "\n",
    "import tensorflow as tf\n",
    "from tensorflow.keras.models import Sequential, Model\n",
    "from tensorflow.keras.layers import *\n",
    "from tensorflow.keras.optimizers import *\n",
    "from tensorflow.keras.applications import *\n",
    "from tensorflow.keras.callbacks import *\n",
    "from tensorflow.keras.initializers import *\n",
    "from tensorflow.keras.preprocessing.image import ImageDataGenerator\n",
    "from tensorflow.keras.applications.efficientnet_v2 import EfficientNetV2S\n",
    "\n",
    "from numpy.random import seed\n",
    "seed(1)\n",
    "from tensorflow.random import set_seed\n",
    "set_seed(1)"
   ]
  },
  {
   "cell_type": "code",
   "execution_count": 2,
   "id": "de1bdc99",
   "metadata": {},
   "outputs": [
    {
     "name": "stdout",
     "output_type": "stream",
     "text": [
      "['sadness', 'anger', 'love', 'fear', 'surprise', 'joy']\n"
     ]
    }
   ],
   "source": [
    "print(os.listdir(\"image2\"))"
   ]
  },
  {
   "cell_type": "code",
   "execution_count": 3,
   "id": "d6d79b73",
   "metadata": {},
   "outputs": [
    {
     "data": {
      "text/plain": [
       "['sadness', 'anger', 'love', 'fear', 'surprise', 'joy']"
      ]
     },
     "execution_count": 3,
     "metadata": {},
     "output_type": "execute_result"
    }
   ],
   "source": [
    "images_dir = \"image2\"\n",
    "emotion_dirs = os.listdir(\"image2\")\n",
    "emotion_dirs"
   ]
  },
  {
   "cell_type": "code",
   "execution_count": 4,
   "id": "cb87bc7e",
   "metadata": {},
   "outputs": [],
   "source": [
    "weight = {'anger' : 440, 'fear': 153, 'joy':587, 'love': 650, 'sadness': 758, 'surprise': 457}"
   ]
  },
  {
   "cell_type": "code",
   "execution_count": 5,
   "id": "827e6b24",
   "metadata": {},
   "outputs": [
    {
     "data": {
      "text/plain": [
       "{0: 0.6695250659630607,\n",
       " 1: 1.1534090909090908,\n",
       " 2: 0.7807692307692308,\n",
       " 3: 3.316993464052288,\n",
       " 4: 1.1105032822757113,\n",
       " 5: 0.8645655877342419}"
      ]
     },
     "execution_count": 5,
     "metadata": {},
     "output_type": "execute_result"
    }
   ],
   "source": [
    "class_weights = {}\n",
    "for i in range(6):\n",
    "    w = 3045 / (6 * weight[emotion_dirs[i]])\n",
    "    class_weights[i] = w \n",
    "class_weights"
   ]
  },
  {
   "cell_type": "code",
   "execution_count": 6,
   "id": "f4243659",
   "metadata": {},
   "outputs": [
    {
     "name": "stdout",
     "output_type": "stream",
     "text": [
      "Found 2438 images belonging to 6 classes.\n",
      "Found 607 images belonging to 6 classes.\n",
      "Total number of batches = 38 and 9\n"
     ]
    }
   ],
   "source": [
    "batch_size = 64\n",
    "train_input_shape = (224, 224, 3)\n",
    "n_classes = 6\n",
    "\n",
    "train_datagen = ImageDataGenerator(validation_split=0.2,\n",
    "                                   rescale=1./255.,\n",
    "                                   #rotation_range=45,\n",
    "                                   #width_shift_range=0.5,\n",
    "                                   #height_shift_range=0.5,\n",
    "                                   shear_range=5,\n",
    "                                   #zoom_range=0.7,\n",
    "                                   horizontal_flip=True,\n",
    "                                   vertical_flip=True,\n",
    "                                  )\n",
    "\n",
    "train_generator = train_datagen.flow_from_directory(directory=images_dir,\n",
    "                                                    class_mode='categorical',\n",
    "                                                    target_size=train_input_shape[0:2],\n",
    "                                                    batch_size=batch_size,\n",
    "                                                    subset=\"training\",\n",
    "                                                    shuffle=True,\n",
    "                                                    classes=emotion_dirs\n",
    "                                                   )\n",
    "\n",
    "valid_generator = train_datagen.flow_from_directory(directory=images_dir,\n",
    "                                                    class_mode='categorical',\n",
    "                                                    target_size=train_input_shape[0:2],\n",
    "                                                    batch_size=batch_size,\n",
    "                                                    subset=\"validation\",\n",
    "                                                    shuffle=True,\n",
    "                                                    classes=emotion_dirs\n",
    "                                                   )\n",
    "\n",
    "STEP_SIZE_TRAIN = train_generator.n//train_generator.batch_size\n",
    "STEP_SIZE_VALID = valid_generator.n//valid_generator.batch_size\n",
    "print(\"Total number of batches =\", STEP_SIZE_TRAIN, \"and\", STEP_SIZE_VALID)"
   ]
  },
  {
   "cell_type": "code",
   "execution_count": 8,
   "id": "7907f7b6",
   "metadata": {},
   "outputs": [
    {
     "name": "stderr",
     "output_type": "stream",
     "text": [
      "2022-10-25 03:56:38.269769: I tensorflow/stream_executor/cuda/cuda_gpu_executor.cc:980] successful NUMA node read from SysFS had negative value (-1), but there must be at least one NUMA node, so returning NUMA node zero\n",
      "2022-10-25 03:56:38.270969: I tensorflow/stream_executor/cuda/cuda_gpu_executor.cc:980] successful NUMA node read from SysFS had negative value (-1), but there must be at least one NUMA node, so returning NUMA node zero\n",
      "2022-10-25 03:56:38.271731: I tensorflow/stream_executor/cuda/cuda_gpu_executor.cc:980] successful NUMA node read from SysFS had negative value (-1), but there must be at least one NUMA node, so returning NUMA node zero\n",
      "2022-10-25 03:56:38.272694: I tensorflow/stream_executor/cuda/cuda_gpu_executor.cc:980] successful NUMA node read from SysFS had negative value (-1), but there must be at least one NUMA node, so returning NUMA node zero\n",
      "2022-10-25 03:56:38.278004: I tensorflow/stream_executor/cuda/cuda_gpu_executor.cc:980] successful NUMA node read from SysFS had negative value (-1), but there must be at least one NUMA node, so returning NUMA node zero\n",
      "2022-10-25 03:56:38.279557: I tensorflow/stream_executor/cuda/cuda_gpu_executor.cc:980] successful NUMA node read from SysFS had negative value (-1), but there must be at least one NUMA node, so returning NUMA node zero\n",
      "2022-10-25 03:56:38.281016: I tensorflow/stream_executor/cuda/cuda_gpu_executor.cc:980] successful NUMA node read from SysFS had negative value (-1), but there must be at least one NUMA node, so returning NUMA node zero\n",
      "2022-10-25 03:56:38.282247: I tensorflow/stream_executor/cuda/cuda_gpu_executor.cc:980] successful NUMA node read from SysFS had negative value (-1), but there must be at least one NUMA node, so returning NUMA node zero\n",
      "2022-10-25 03:56:38.283705: I tensorflow/stream_executor/cuda/cuda_gpu_executor.cc:980] successful NUMA node read from SysFS had negative value (-1), but there must be at least one NUMA node, so returning NUMA node zero\n",
      "2022-10-25 03:56:38.284771: I tensorflow/stream_executor/cuda/cuda_gpu_executor.cc:980] successful NUMA node read from SysFS had negative value (-1), but there must be at least one NUMA node, so returning NUMA node zero\n",
      "2022-10-25 03:56:38.334137: W tensorflow/stream_executor/platform/default/dso_loader.cc:64] Could not load dynamic library 'libcudnn.so.8'; dlerror: libcudnn.so.8: cannot open shared object file: No such file or directory\n",
      "2022-10-25 03:56:38.334162: W tensorflow/core/common_runtime/gpu/gpu_device.cc:1934] Cannot dlopen some GPU libraries. Please make sure the missing libraries mentioned above are installed properly if you would like to use GPU. Follow the guide at https://www.tensorflow.org/install/gpu for how to download and setup the required libraries for your platform.\n",
      "Skipping registering GPU devices...\n",
      "2022-10-25 03:56:38.334859: I tensorflow/core/platform/cpu_feature_guard.cc:193] This TensorFlow binary is optimized with oneAPI Deep Neural Network Library (oneDNN) to use the following CPU instructions in performance-critical operations:  AVX2 AVX512F FMA\n",
      "To enable them in other operations, rebuild TensorFlow with the appropriate compiler flags.\n"
     ]
    },
    {
     "name": "stdout",
     "output_type": "stream",
     "text": [
      "Downloading data from https://storage.googleapis.com/tensorflow/keras-applications/efficientnet_v2/efficientnetv2-s_notop.h5\n",
      "82420632/82420632 [==============================] - 2s 0us/step\n"
     ]
    }
   ],
   "source": [
    "# Load pre-trained model\n",
    "base_model = EfficientNetV2S(weights='imagenet', include_top=False, input_shape=train_input_shape)\n",
    "\n",
    "for layer in base_model.layers:\n",
    "    layer.trainable = True"
   ]
  },
  {
   "cell_type": "code",
   "execution_count": 9,
   "id": "a910d77e",
   "metadata": {},
   "outputs": [],
   "source": [
    "# Add layers at the end\n",
    "X = base_model.output\n",
    "X = Flatten()(X)\n",
    "\n",
    "X = Dense(512, kernel_initializer='he_uniform')(X)\n",
    "#X = Dropout(0.5)(X)\n",
    "X = BatchNormalization()(X)\n",
    "X = Activation('relu')(X)\n",
    "\n",
    "X = Dense(16, kernel_initializer='he_uniform')(X)\n",
    "#X = Dropout(0.5)(X)\n",
    "X = BatchNormalization()(X)\n",
    "X = Activation('relu')(X)\n",
    "\n",
    "output = Dense(n_classes, activation='softmax')(X)\n",
    "\n",
    "model = Model(inputs=base_model.input, outputs=output)"
   ]
  },
  {
   "cell_type": "code",
   "execution_count": 10,
   "id": "0bcf688f",
   "metadata": {},
   "outputs": [],
   "source": [
    "optimizer = Adam(learning_rate=0.0001)\n",
    "model.compile(loss='categorical_crossentropy',\n",
    "              optimizer=optimizer, \n",
    "              metrics=['accuracy'])"
   ]
  },
  {
   "cell_type": "code",
   "execution_count": 11,
   "id": "6d72866d",
   "metadata": {},
   "outputs": [],
   "source": [
    "n_epoch = 20\n",
    "\n",
    "early_stop = EarlyStopping(monitor='val_loss', patience=20, verbose=1, \n",
    "                           mode='auto', restore_best_weights=True)\n",
    "\n",
    "reduce_lr = ReduceLROnPlateau(monitor='val_loss', factor=0.1, patience=5, \n",
    "                              verbose=1, mode='auto')"
   ]
  },
  {
   "cell_type": "code",
   "execution_count": 12,
   "id": "36fa076d",
   "metadata": {
    "scrolled": false
   },
   "outputs": [
    {
     "name": "stderr",
     "output_type": "stream",
     "text": [
      "/tmp/ipykernel_3506050/4005977698.py:2: UserWarning: `Model.fit_generator` is deprecated and will be removed in a future version. Please use `Model.fit`, which supports generators.\n",
      "  history1 = model.fit_generator(generator=train_generator, steps_per_epoch=STEP_SIZE_TRAIN,\n"
     ]
    },
    {
     "name": "stdout",
     "output_type": "stream",
     "text": [
      "Epoch 1/20\n",
      "38/38 [==============================] - 404s 10s/step - loss: 1.6941 - accuracy: 0.2485 - val_loss: 2.7080 - val_accuracy: 0.0972 - lr: 1.0000e-04\n",
      "Epoch 2/20\n",
      "38/38 [==============================] - 409s 9s/step - loss: 1.3095 - accuracy: 0.4368 - val_loss: 2.4589 - val_accuracy: 0.2396 - lr: 1.0000e-04\n",
      "Epoch 3/20\n",
      "38/38 [==============================] - 427s 10s/step - loss: 1.1024 - accuracy: 0.5695 - val_loss: 2.1217 - val_accuracy: 0.3021 - lr: 1.0000e-04\n",
      "Epoch 4/20\n",
      "38/38 [==============================] - 447s 10s/step - loss: 0.9477 - accuracy: 0.6559 - val_loss: 1.9764 - val_accuracy: 0.3073 - lr: 1.0000e-04\n",
      "Epoch 5/20\n",
      "38/38 [==============================] - 439s 10s/step - loss: 0.8380 - accuracy: 0.7266 - val_loss: 2.0385 - val_accuracy: 0.3403 - lr: 1.0000e-04\n",
      "Epoch 6/20\n",
      "38/38 [==============================] - 455s 10s/step - loss: 0.7353 - accuracy: 0.7869 - val_loss: 1.9783 - val_accuracy: 0.3264 - lr: 1.0000e-04\n",
      "Epoch 7/20\n",
      "38/38 [==============================] - 452s 9s/step - loss: 0.6472 - accuracy: 0.8277 - val_loss: 1.9545 - val_accuracy: 0.3264 - lr: 1.0000e-04\n",
      "Epoch 8/20\n",
      "38/38 [==============================] - 405s 8s/step - loss: 0.5957 - accuracy: 0.8711 - val_loss: 1.9287 - val_accuracy: 0.3542 - lr: 1.0000e-04\n",
      "Epoch 9/20\n",
      "38/38 [==============================] - 379s 8s/step - loss: 0.5399 - accuracy: 0.8888 - val_loss: 1.8732 - val_accuracy: 0.3594 - lr: 1.0000e-04\n",
      "Epoch 10/20\n",
      "38/38 [==============================] - 381s 8s/step - loss: 0.4946 - accuracy: 0.9145 - val_loss: 1.7925 - val_accuracy: 0.3854 - lr: 1.0000e-04\n",
      "Epoch 11/20\n",
      "38/38 [==============================] - 384s 8s/step - loss: 0.4737 - accuracy: 0.9115 - val_loss: 1.8628 - val_accuracy: 0.3594 - lr: 1.0000e-04\n",
      "Epoch 12/20\n",
      "38/38 [==============================] - 381s 8s/step - loss: 0.4227 - accuracy: 0.9406 - val_loss: 1.8867 - val_accuracy: 0.3559 - lr: 1.0000e-04\n",
      "Epoch 13/20\n",
      "38/38 [==============================] - 385s 8s/step - loss: 0.3946 - accuracy: 0.9461 - val_loss: 1.8265 - val_accuracy: 0.3455 - lr: 1.0000e-04\n",
      "Epoch 14/20\n",
      "38/38 [==============================] - 396s 8s/step - loss: 0.3888 - accuracy: 0.9566 - val_loss: 1.8902 - val_accuracy: 0.3715 - lr: 1.0000e-04\n",
      "Epoch 15/20\n",
      "38/38 [==============================] - ETA: 0s - loss: 0.3569 - accuracy: 0.9608\n",
      "Epoch 15: ReduceLROnPlateau reducing learning rate to 9.999999747378752e-06.\n",
      "38/38 [==============================] - 393s 8s/step - loss: 0.3569 - accuracy: 0.9608 - val_loss: 1.8425 - val_accuracy: 0.3785 - lr: 1.0000e-04\n",
      "Epoch 16/20\n",
      "38/38 [==============================] - 399s 8s/step - loss: 0.3428 - accuracy: 0.9688 - val_loss: 1.8812 - val_accuracy: 0.3594 - lr: 1.0000e-05\n",
      "Epoch 17/20\n",
      "38/38 [==============================] - 482s 10s/step - loss: 0.3214 - accuracy: 0.9760 - val_loss: 1.8245 - val_accuracy: 0.3854 - lr: 1.0000e-05\n",
      "Epoch 18/20\n",
      "38/38 [==============================] - 483s 12s/step - loss: 0.3227 - accuracy: 0.9773 - val_loss: 1.8455 - val_accuracy: 0.3542 - lr: 1.0000e-05\n",
      "Epoch 19/20\n",
      "38/38 [==============================] - 473s 10s/step - loss: 0.3160 - accuracy: 0.9781 - val_loss: 1.8168 - val_accuracy: 0.3628 - lr: 1.0000e-05\n",
      "Epoch 20/20\n",
      "38/38 [==============================] - ETA: 0s - loss: 0.3168 - accuracy: 0.9739\n",
      "Epoch 20: ReduceLROnPlateau reducing learning rate to 9.999999747378752e-07.\n",
      "38/38 [==============================] - 486s 11s/step - loss: 0.3168 - accuracy: 0.9739 - val_loss: 1.8707 - val_accuracy: 0.3438 - lr: 1.0000e-05\n"
     ]
    }
   ],
   "source": [
    "# Train the model - all layers\n",
    "history1 = model.fit_generator(generator=train_generator, steps_per_epoch=STEP_SIZE_TRAIN,\n",
    "                              validation_data=valid_generator, validation_steps=STEP_SIZE_VALID,\n",
    "                              epochs=n_epoch,\n",
    "                              shuffle=True,\n",
    "                              verbose=1,\n",
    "                              callbacks=[reduce_lr],\n",
    "                              use_multiprocessing=True,\n",
    "                              workers=16,\n",
    "                              class_weight=class_weights\n",
    "                             )"
   ]
  },
  {
   "cell_type": "code",
   "execution_count": null,
   "id": "7bea00cd",
   "metadata": {},
   "outputs": [
    {
     "name": "stderr",
     "output_type": "stream",
     "text": [
      "/home/jupyter-k7a506/.local/lib/python3.9/site-packages/keras/optimizers/optimizer_v2/adam.py:114: UserWarning: The `lr` argument is deprecated, use `learning_rate` instead.\n",
      "  super().__init__(name, **kwargs)\n",
      "/tmp/ipykernel_3506050/2442743920.py:15: UserWarning: `Model.fit_generator` is deprecated and will be removed in a future version. Please use `Model.fit`, which supports generators.\n",
      "  history2 = model.fit_generator(generator=train_generator, steps_per_epoch=STEP_SIZE_TRAIN,\n"
     ]
    },
    {
     "name": "stdout",
     "output_type": "stream",
     "text": [
      "Epoch 1/50\n",
      "38/38 [==============================] - 490s 11s/step - loss: 0.2785 - accuracy: 0.9861 - val_loss: 1.8682 - val_accuracy: 0.3351 - lr: 1.0000e-04\n",
      "Epoch 2/50\n",
      "38/38 [==============================] - 504s 12s/step - loss: 0.2687 - accuracy: 0.9857 - val_loss: 1.9003 - val_accuracy: 0.3507 - lr: 1.0000e-04\n",
      "Epoch 3/50\n",
      "38/38 [==============================] - 510s 12s/step - loss: 0.2623 - accuracy: 0.9836 - val_loss: 1.8585 - val_accuracy: 0.3333 - lr: 1.0000e-04\n",
      "Epoch 4/50\n",
      "38/38 [==============================] - 473s 11s/step - loss: 0.2623 - accuracy: 0.9886 - val_loss: 1.8239 - val_accuracy: 0.3594 - lr: 1.0000e-04\n",
      "Epoch 5/50\n",
      "38/38 [==============================] - 526s 12s/step - loss: 0.2632 - accuracy: 0.9865 - val_loss: 1.8818 - val_accuracy: 0.3281 - lr: 1.0000e-04\n",
      "Epoch 6/50\n",
      "38/38 [==============================] - 497s 11s/step - loss: 0.2593 - accuracy: 0.9848 - val_loss: 1.8604 - val_accuracy: 0.3559 - lr: 1.0000e-04\n",
      "Epoch 7/50\n",
      "38/38 [==============================] - 512s 12s/step - loss: 0.2563 - accuracy: 0.9886 - val_loss: 1.8102 - val_accuracy: 0.3785 - lr: 1.0000e-04\n",
      "Epoch 8/50\n",
      "38/38 [==============================] - 503s 11s/step - loss: 0.2547 - accuracy: 0.9878 - val_loss: 1.8334 - val_accuracy: 0.3646 - lr: 1.0000e-04\n",
      "Epoch 9/50\n",
      "38/38 [==============================] - 513s 12s/step - loss: 0.2555 - accuracy: 0.9878 - val_loss: 1.8206 - val_accuracy: 0.3611 - lr: 1.0000e-04\n",
      "Epoch 10/50\n",
      "38/38 [==============================] - 519s 12s/step - loss: 0.2494 - accuracy: 0.9857 - val_loss: 1.8463 - val_accuracy: 0.3698 - lr: 1.0000e-04\n",
      "Epoch 11/50\n",
      "38/38 [==============================] - 509s 11s/step - loss: 0.2542 - accuracy: 0.9890 - val_loss: 1.7862 - val_accuracy: 0.3854 - lr: 1.0000e-04\n",
      "Epoch 12/50\n",
      "38/38 [==============================] - 489s 12s/step - loss: 0.2539 - accuracy: 0.9886 - val_loss: 1.8057 - val_accuracy: 0.3646 - lr: 1.0000e-04\n",
      "Epoch 13/50\n",
      "38/38 [==============================] - 513s 12s/step - loss: 0.2499 - accuracy: 0.9878 - val_loss: 1.8385 - val_accuracy: 0.3733 - lr: 1.0000e-04\n",
      "Epoch 14/50\n",
      "38/38 [==============================] - 533s 12s/step - loss: 0.2473 - accuracy: 0.9874 - val_loss: 1.8534 - val_accuracy: 0.3628 - lr: 1.0000e-04\n",
      "Epoch 15/50\n",
      " 2/38 [>.............................] - ETA: 36:18 - loss: 0.2170 - accuracy: 1.0000"
     ]
    }
   ],
   "source": [
    "# Freeze core ResNet layers and train again \n",
    "for layer in model.layers:\n",
    "    layer.trainable = False\n",
    "\n",
    "for layer in model.layers[:50]:\n",
    "    layer.trainable = True\n",
    "\n",
    "optimizer = Adam(lr=0.0001)\n",
    "\n",
    "model.compile(loss='categorical_crossentropy',\n",
    "              optimizer=optimizer, \n",
    "              metrics=['accuracy'])\n",
    "\n",
    "n_epoch = 50\n",
    "history2 = model.fit_generator(generator=train_generator, steps_per_epoch=STEP_SIZE_TRAIN,\n",
    "                              validation_data=valid_generator, validation_steps=STEP_SIZE_VALID,\n",
    "                              epochs=n_epoch,\n",
    "                              shuffle=True,\n",
    "                              verbose=1,\n",
    "                              callbacks=[reduce_lr, early_stop],\n",
    "                              use_multiprocessing=True,\n",
    "                              workers=16,\n",
    "                              class_weight=class_weights\n",
    "                             )"
   ]
  },
  {
   "cell_type": "code",
   "execution_count": null,
   "id": "ea2b07ef",
   "metadata": {},
   "outputs": [],
   "source": [
    "model.save('efficientnet_v2_s.h5')"
   ]
  },
  {
   "cell_type": "code",
   "execution_count": null,
   "id": "15e7bb36",
   "metadata": {},
   "outputs": [],
   "source": []
  },
  {
   "cell_type": "code",
   "execution_count": null,
   "id": "265d0127",
   "metadata": {},
   "outputs": [],
   "source": []
  },
  {
   "cell_type": "code",
   "execution_count": null,
   "id": "8be53425",
   "metadata": {},
   "outputs": [],
   "source": []
  },
  {
   "cell_type": "code",
   "execution_count": null,
   "id": "ea090bc3",
   "metadata": {},
   "outputs": [],
   "source": []
  },
  {
   "cell_type": "code",
   "execution_count": null,
   "id": "1c035744",
   "metadata": {},
   "outputs": [],
   "source": []
  },
  {
   "cell_type": "code",
   "execution_count": null,
   "id": "e90c489e",
   "metadata": {},
   "outputs": [],
   "source": []
  },
  {
   "cell_type": "code",
   "execution_count": null,
   "id": "c63e146e",
   "metadata": {},
   "outputs": [],
   "source": []
  },
  {
   "cell_type": "code",
   "execution_count": null,
   "id": "57db00e0",
   "metadata": {},
   "outputs": [],
   "source": []
  },
  {
   "cell_type": "code",
   "execution_count": null,
   "id": "94624d86",
   "metadata": {},
   "outputs": [],
   "source": []
  },
  {
   "cell_type": "code",
   "execution_count": null,
   "id": "77ae84a7",
   "metadata": {},
   "outputs": [],
   "source": []
  },
  {
   "cell_type": "code",
   "execution_count": null,
   "id": "f71743e7",
   "metadata": {},
   "outputs": [],
   "source": []
  },
  {
   "cell_type": "code",
   "execution_count": null,
   "id": "250f4705",
   "metadata": {},
   "outputs": [],
   "source": []
  },
  {
   "cell_type": "code",
   "execution_count": null,
   "id": "06ce10ec",
   "metadata": {},
   "outputs": [],
   "source": []
  },
  {
   "cell_type": "code",
   "execution_count": null,
   "id": "dbdaf578",
   "metadata": {},
   "outputs": [],
   "source": []
  },
  {
   "cell_type": "code",
   "execution_count": null,
   "id": "171d2e7a",
   "metadata": {},
   "outputs": [],
   "source": []
  },
  {
   "cell_type": "code",
   "execution_count": null,
   "id": "5af9509b",
   "metadata": {},
   "outputs": [],
   "source": []
  },
  {
   "cell_type": "code",
   "execution_count": null,
   "id": "b780983c",
   "metadata": {},
   "outputs": [],
   "source": []
  },
  {
   "cell_type": "code",
   "execution_count": null,
   "id": "eaff8819",
   "metadata": {},
   "outputs": [],
   "source": []
  },
  {
   "cell_type": "code",
   "execution_count": null,
   "id": "2d078729",
   "metadata": {},
   "outputs": [],
   "source": []
  },
  {
   "cell_type": "code",
   "execution_count": null,
   "id": "97368d30",
   "metadata": {},
   "outputs": [],
   "source": []
  }
 ],
 "metadata": {
  "kernelspec": {
   "display_name": "Python 3 (ipykernel)",
   "language": "python",
   "name": "python3"
  },
  "language_info": {
   "codemirror_mode": {
    "name": "ipython",
    "version": 3
   },
   "file_extension": ".py",
   "mimetype": "text/x-python",
   "name": "python",
   "nbconvert_exporter": "python",
   "pygments_lexer": "ipython3",
   "version": "3.9.7"
  }
 },
 "nbformat": 4,
 "nbformat_minor": 5
}
