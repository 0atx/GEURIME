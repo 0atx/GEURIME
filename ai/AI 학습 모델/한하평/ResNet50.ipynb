{
 "cells": [
  {
   "cell_type": "code",
   "execution_count": 3,
   "id": "08dfb078",
   "metadata": {},
   "outputs": [
    {
     "name": "stderr",
     "output_type": "stream",
     "text": [
      "2022-10-25 00:04:50.994679: I tensorflow/core/platform/cpu_feature_guard.cc:193] This TensorFlow binary is optimized with oneAPI Deep Neural Network Library (oneDNN) to use the following CPU instructions in performance-critical operations:  AVX2 AVX512F FMA\n",
      "To enable them in other operations, rebuild TensorFlow with the appropriate compiler flags.\n",
      "2022-10-25 00:04:51.200107: E tensorflow/stream_executor/cuda/cuda_blas.cc:2981] Unable to register cuBLAS factory: Attempting to register factory for plugin cuBLAS when one has already been registered\n",
      "2022-10-25 00:04:51.896924: W tensorflow/stream_executor/platform/default/dso_loader.cc:64] Could not load dynamic library 'libnvinfer.so.7'; dlerror: libnvinfer.so.7: cannot open shared object file: No such file or directory\n",
      "2022-10-25 00:04:51.897009: W tensorflow/stream_executor/platform/default/dso_loader.cc:64] Could not load dynamic library 'libnvinfer_plugin.so.7'; dlerror: libnvinfer_plugin.so.7: cannot open shared object file: No such file or directory\n",
      "2022-10-25 00:04:51.897018: W tensorflow/compiler/tf2tensorrt/utils/py_utils.cc:38] TF-TRT Warning: Cannot dlopen some TensorRT libraries. If you would like to use Nvidia GPU with TensorRT, please make sure the missing libraries mentioned above are installed properly.\n"
     ]
    }
   ],
   "source": [
    "# Import libraries\n",
    "import pandas as pd\n",
    "import numpy as np\n",
    "import matplotlib.pyplot as plt\n",
    "import json\n",
    "import os\n",
    "from tqdm import tqdm, tqdm_notebook\n",
    "import random\n",
    "\n",
    "import tensorflow as tf\n",
    "from tensorflow.keras.models import Sequential, Model\n",
    "from tensorflow.keras.layers import *\n",
    "from tensorflow.keras.optimizers import *\n",
    "from tensorflow.keras.applications import *\n",
    "from tensorflow.keras.callbacks import *\n",
    "from tensorflow.keras.initializers import *\n",
    "from tensorflow.keras.preprocessing.image import ImageDataGenerator\n",
    "\n",
    "from numpy.random import seed\n",
    "seed(1)\n",
    "from tensorflow.random import set_seed\n",
    "set_seed(1)"
   ]
  },
  {
   "cell_type": "code",
   "execution_count": 4,
   "id": "bc9e67c1",
   "metadata": {
    "scrolled": true
   },
   "outputs": [
    {
     "name": "stdout",
     "output_type": "stream",
     "text": [
      "['sadness', 'anger', 'love', 'fear', 'surprise', 'joy']\n"
     ]
    }
   ],
   "source": [
    "print(os.listdir(\"image2\"))"
   ]
  },
  {
   "cell_type": "code",
   "execution_count": 8,
   "id": "484af49a",
   "metadata": {},
   "outputs": [
    {
     "data": {
      "text/plain": [
       "['sadness', 'anger', 'love', 'fear', 'surprise', 'joy']"
      ]
     },
     "execution_count": 8,
     "metadata": {},
     "output_type": "execute_result"
    }
   ],
   "source": [
    "images_dir = \"image2\"\n",
    "emotion_dirs = os.listdir(\"image2\")\n",
    "emotion_dirs"
   ]
  },
  {
   "cell_type": "code",
   "execution_count": 19,
   "id": "51d15edc",
   "metadata": {},
   "outputs": [],
   "source": [
    "weight = {'anger' : 440, 'fear': 153, 'joy':587, 'love': 650, 'sadness': 758, 'surprise': 457}"
   ]
  },
  {
   "cell_type": "code",
   "execution_count": 20,
   "id": "f264b9a4",
   "metadata": {},
   "outputs": [
    {
     "data": {
      "text/plain": [
       "3045"
      ]
     },
     "execution_count": 20,
     "metadata": {},
     "output_type": "execute_result"
    }
   ],
   "source": [
    "sum(weight.values())"
   ]
  },
  {
   "cell_type": "code",
   "execution_count": 17,
   "id": "8f942e33",
   "metadata": {},
   "outputs": [
    {
     "ename": "NameError",
     "evalue": "name 'weight' is not defined",
     "output_type": "error",
     "traceback": [
      "\u001b[0;31m---------------------------------------------------------------------------\u001b[0m",
      "\u001b[0;31mNameError\u001b[0m                                 Traceback (most recent call last)",
      "Input \u001b[0;32mIn [17]\u001b[0m, in \u001b[0;36m<cell line: 1>\u001b[0;34m()\u001b[0m\n\u001b[0;32m----> 1\u001b[0m \u001b[38;5;28msum\u001b[39m(\u001b[43mweight\u001b[49m)\n",
      "\u001b[0;31mNameError\u001b[0m: name 'weight' is not defined"
     ]
    }
   ],
   "source": []
  },
  {
   "cell_type": "code",
   "execution_count": 23,
   "id": "3baa02af",
   "metadata": {},
   "outputs": [
    {
     "data": {
      "text/plain": [
       "{0: 0.6695250659630607,\n",
       " 1: 1.1534090909090908,\n",
       " 2: 0.7807692307692308,\n",
       " 3: 3.316993464052288,\n",
       " 4: 1.1105032822757113,\n",
       " 5: 0.8645655877342419}"
      ]
     },
     "execution_count": 23,
     "metadata": {},
     "output_type": "execute_result"
    }
   ],
   "source": [
    "class_weights = {}\n",
    "for i in range(6):\n",
    "    w = 3045 / (6 * weight[emotion_dirs[i]])\n",
    "    class_weights[i] = w \n",
    "class_weights"
   ]
  },
  {
   "cell_type": "code",
   "execution_count": 25,
   "id": "4978717d",
   "metadata": {},
   "outputs": [
    {
     "name": "stdout",
     "output_type": "stream",
     "text": [
      "Found 2438 images belonging to 6 classes.\n",
      "Found 607 images belonging to 6 classes.\n",
      "Total number of batches = 38 and 9\n"
     ]
    }
   ],
   "source": [
    "batch_size = 64\n",
    "train_input_shape = (224, 224, 3)\n",
    "n_classes = 6\n",
    "\n",
    "train_datagen = ImageDataGenerator(validation_split=0.2,\n",
    "                                   rescale=1./255.,\n",
    "                                   #rotation_range=45,\n",
    "                                   #width_shift_range=0.5,\n",
    "                                   #height_shift_range=0.5,\n",
    "                                   shear_range=5,\n",
    "                                   #zoom_range=0.7,\n",
    "                                   horizontal_flip=True,\n",
    "                                   vertical_flip=True,\n",
    "                                  )\n",
    "\n",
    "train_generator = train_datagen.flow_from_directory(directory=images_dir,\n",
    "                                                    class_mode='categorical',\n",
    "                                                    target_size=train_input_shape[0:2],\n",
    "                                                    batch_size=batch_size,\n",
    "                                                    subset=\"training\",\n",
    "                                                    shuffle=True,\n",
    "                                                    classes=emotion_dirs\n",
    "                                                   )\n",
    "\n",
    "valid_generator = train_datagen.flow_from_directory(directory=images_dir,\n",
    "                                                    class_mode='categorical',\n",
    "                                                    target_size=train_input_shape[0:2],\n",
    "                                                    batch_size=batch_size,\n",
    "                                                    subset=\"validation\",\n",
    "                                                    shuffle=True,\n",
    "                                                    classes=emotion_dirs\n",
    "                                                   )\n",
    "\n",
    "STEP_SIZE_TRAIN = train_generator.n//train_generator.batch_size\n",
    "STEP_SIZE_VALID = valid_generator.n//valid_generator.batch_size\n",
    "print(\"Total number of batches =\", STEP_SIZE_TRAIN, \"and\", STEP_SIZE_VALID)"
   ]
  },
  {
   "cell_type": "code",
   "execution_count": 10,
   "id": "a4db5ada",
   "metadata": {
    "scrolled": false
   },
   "outputs": [
    {
     "name": "stderr",
     "output_type": "stream",
     "text": [
      "2022-10-25 00:14:17.604128: I tensorflow/stream_executor/cuda/cuda_gpu_executor.cc:980] successful NUMA node read from SysFS had negative value (-1), but there must be at least one NUMA node, so returning NUMA node zero\n",
      "2022-10-25 00:14:17.604857: I tensorflow/stream_executor/cuda/cuda_gpu_executor.cc:980] successful NUMA node read from SysFS had negative value (-1), but there must be at least one NUMA node, so returning NUMA node zero\n",
      "2022-10-25 00:14:17.605442: I tensorflow/stream_executor/cuda/cuda_gpu_executor.cc:980] successful NUMA node read from SysFS had negative value (-1), but there must be at least one NUMA node, so returning NUMA node zero\n",
      "2022-10-25 00:14:17.606022: I tensorflow/stream_executor/cuda/cuda_gpu_executor.cc:980] successful NUMA node read from SysFS had negative value (-1), but there must be at least one NUMA node, so returning NUMA node zero\n",
      "2022-10-25 00:14:17.606580: I tensorflow/stream_executor/cuda/cuda_gpu_executor.cc:980] successful NUMA node read from SysFS had negative value (-1), but there must be at least one NUMA node, so returning NUMA node zero\n",
      "2022-10-25 00:14:17.607145: I tensorflow/stream_executor/cuda/cuda_gpu_executor.cc:980] successful NUMA node read from SysFS had negative value (-1), but there must be at least one NUMA node, so returning NUMA node zero\n",
      "2022-10-25 00:14:17.607691: I tensorflow/stream_executor/cuda/cuda_gpu_executor.cc:980] successful NUMA node read from SysFS had negative value (-1), but there must be at least one NUMA node, so returning NUMA node zero\n",
      "2022-10-25 00:14:17.608235: I tensorflow/stream_executor/cuda/cuda_gpu_executor.cc:980] successful NUMA node read from SysFS had negative value (-1), but there must be at least one NUMA node, so returning NUMA node zero\n",
      "2022-10-25 00:14:17.608789: I tensorflow/stream_executor/cuda/cuda_gpu_executor.cc:980] successful NUMA node read from SysFS had negative value (-1), but there must be at least one NUMA node, so returning NUMA node zero\n",
      "2022-10-25 00:14:17.609332: I tensorflow/stream_executor/cuda/cuda_gpu_executor.cc:980] successful NUMA node read from SysFS had negative value (-1), but there must be at least one NUMA node, so returning NUMA node zero\n",
      "2022-10-25 00:14:17.650011: W tensorflow/stream_executor/platform/default/dso_loader.cc:64] Could not load dynamic library 'libcudnn.so.8'; dlerror: libcudnn.so.8: cannot open shared object file: No such file or directory\n",
      "2022-10-25 00:14:17.650032: W tensorflow/core/common_runtime/gpu/gpu_device.cc:1934] Cannot dlopen some GPU libraries. Please make sure the missing libraries mentioned above are installed properly if you would like to use GPU. Follow the guide at https://www.tensorflow.org/install/gpu for how to download and setup the required libraries for your platform.\n",
      "Skipping registering GPU devices...\n",
      "2022-10-25 00:14:17.650540: I tensorflow/core/platform/cpu_feature_guard.cc:193] This TensorFlow binary is optimized with oneAPI Deep Neural Network Library (oneDNN) to use the following CPU instructions in performance-critical operations:  AVX2 AVX512F FMA\n",
      "To enable them in other operations, rebuild TensorFlow with the appropriate compiler flags.\n"
     ]
    },
    {
     "name": "stdout",
     "output_type": "stream",
     "text": [
      "Downloading data from https://storage.googleapis.com/tensorflow/keras-applications/resnet/resnet50_weights_tf_dim_ordering_tf_kernels_notop.h5\n",
      "94765736/94765736 [==============================] - 2s 0us/step\n"
     ]
    }
   ],
   "source": [
    "# Load pre-trained model\n",
    "base_model = ResNet50(weights='imagenet', include_top=False, input_shape=train_input_shape)\n",
    "\n",
    "for layer in base_model.layers:\n",
    "    layer.trainable = True"
   ]
  },
  {
   "cell_type": "code",
   "execution_count": 11,
   "id": "1ee4ada6",
   "metadata": {},
   "outputs": [],
   "source": [
    "# Add layers at the end\n",
    "X = base_model.output\n",
    "X = Flatten()(X)\n",
    "\n",
    "X = Dense(512, kernel_initializer='he_uniform')(X)\n",
    "#X = Dropout(0.5)(X)\n",
    "X = BatchNormalization()(X)\n",
    "X = Activation('relu')(X)\n",
    "\n",
    "X = Dense(16, kernel_initializer='he_uniform')(X)\n",
    "#X = Dropout(0.5)(X)\n",
    "X = BatchNormalization()(X)\n",
    "X = Activation('relu')(X)\n",
    "\n",
    "output = Dense(n_classes, activation='softmax')(X)\n",
    "\n",
    "model = Model(inputs=base_model.input, outputs=output)"
   ]
  },
  {
   "cell_type": "code",
   "execution_count": 13,
   "id": "e75bed09",
   "metadata": {},
   "outputs": [],
   "source": [
    "optimizer = Adam(learning_rate=0.0001)\n",
    "model.compile(loss='categorical_crossentropy',\n",
    "              optimizer=optimizer, \n",
    "              metrics=['accuracy'])"
   ]
  },
  {
   "cell_type": "code",
   "execution_count": 26,
   "id": "fa939c20",
   "metadata": {},
   "outputs": [],
   "source": [
    "n_epoch = 20\n",
    "\n",
    "early_stop = EarlyStopping(monitor='val_loss', patience=20, verbose=1, \n",
    "                           mode='auto', restore_best_weights=True)\n",
    "\n",
    "reduce_lr = ReduceLROnPlateau(monitor='val_loss', factor=0.1, patience=5, \n",
    "                              verbose=1, mode='auto')"
   ]
  },
  {
   "cell_type": "code",
   "execution_count": 27,
   "id": "8602ef31",
   "metadata": {},
   "outputs": [
    {
     "name": "stderr",
     "output_type": "stream",
     "text": [
      "/tmp/ipykernel_3491763/4005977698.py:2: UserWarning: `Model.fit_generator` is deprecated and will be removed in a future version. Please use `Model.fit`, which supports generators.\n",
      "  history1 = model.fit_generator(generator=train_generator, steps_per_epoch=STEP_SIZE_TRAIN,\n"
     ]
    },
    {
     "name": "stdout",
     "output_type": "stream",
     "text": [
      "Epoch 1/20\n",
      "38/38 [==============================] - 236s 6s/step - loss: 0.3371 - accuracy: 0.9629 - val_loss: 1.8229 - val_accuracy: 0.3837 - lr: 1.0000e-05\n",
      "Epoch 2/20\n",
      "38/38 [==============================] - 238s 6s/step - loss: 0.3305 - accuracy: 0.9735 - val_loss: 1.8385 - val_accuracy: 0.3906 - lr: 1.0000e-05\n",
      "Epoch 3/20\n",
      "38/38 [==============================] - 241s 6s/step - loss: 0.3228 - accuracy: 0.9718 - val_loss: 1.8232 - val_accuracy: 0.3681 - lr: 1.0000e-05\n",
      "Epoch 4/20\n",
      "38/38 [==============================] - 242s 6s/step - loss: 0.3260 - accuracy: 0.9693 - val_loss: 1.7770 - val_accuracy: 0.3924 - lr: 1.0000e-05\n",
      "Epoch 5/20\n",
      "38/38 [==============================] - 243s 6s/step - loss: 0.3185 - accuracy: 0.9743 - val_loss: 1.8195 - val_accuracy: 0.3958 - lr: 1.0000e-05\n",
      "Epoch 6/20\n",
      "38/38 [==============================] - 250s 6s/step - loss: 0.3091 - accuracy: 0.9762 - val_loss: 1.8000 - val_accuracy: 0.3802 - lr: 1.0000e-05\n",
      "Epoch 7/20\n",
      "38/38 [==============================] - 244s 6s/step - loss: 0.3104 - accuracy: 0.9781 - val_loss: 1.8476 - val_accuracy: 0.3924 - lr: 1.0000e-05\n",
      "Epoch 8/20\n",
      "38/38 [==============================] - 245s 6s/step - loss: 0.3035 - accuracy: 0.9781 - val_loss: 1.8101 - val_accuracy: 0.3906 - lr: 1.0000e-05\n",
      "Epoch 9/20\n",
      "38/38 [==============================] - ETA: 0s - loss: 0.3055 - accuracy: 0.9768\n",
      "Epoch 9: ReduceLROnPlateau reducing learning rate to 9.999999747378752e-07.\n",
      "38/38 [==============================] - 253s 6s/step - loss: 0.3055 - accuracy: 0.9768 - val_loss: 1.8191 - val_accuracy: 0.3698 - lr: 1.0000e-05\n",
      "Epoch 10/20\n",
      "38/38 [==============================] - 247s 6s/step - loss: 0.2944 - accuracy: 0.9840 - val_loss: 1.8238 - val_accuracy: 0.3819 - lr: 1.0000e-06\n",
      "Epoch 11/20\n",
      "38/38 [==============================] - 255s 6s/step - loss: 0.3011 - accuracy: 0.9802 - val_loss: 1.8167 - val_accuracy: 0.3906 - lr: 1.0000e-06\n",
      "Epoch 12/20\n",
      "38/38 [==============================] - 251s 6s/step - loss: 0.3073 - accuracy: 0.9739 - val_loss: 1.8062 - val_accuracy: 0.3785 - lr: 1.0000e-06\n",
      "Epoch 13/20\n",
      "38/38 [==============================] - 253s 6s/step - loss: 0.2962 - accuracy: 0.9819 - val_loss: 1.8168 - val_accuracy: 0.3767 - lr: 1.0000e-06\n",
      "Epoch 14/20\n",
      "38/38 [==============================] - ETA: 0s - loss: 0.2957 - accuracy: 0.9840\n",
      "Epoch 14: ReduceLROnPlateau reducing learning rate to 9.999999974752428e-08.\n",
      "38/38 [==============================] - 263s 6s/step - loss: 0.2957 - accuracy: 0.9840 - val_loss: 1.8048 - val_accuracy: 0.3802 - lr: 1.0000e-06\n",
      "Epoch 15/20\n",
      "38/38 [==============================] - 247s 6s/step - loss: 0.2951 - accuracy: 0.9832 - val_loss: 1.8563 - val_accuracy: 0.3733 - lr: 1.0000e-07\n",
      "Epoch 16/20\n",
      "38/38 [==============================] - 254s 6s/step - loss: 0.2975 - accuracy: 0.9810 - val_loss: 1.8102 - val_accuracy: 0.3750 - lr: 1.0000e-07\n",
      "Epoch 17/20\n",
      "38/38 [==============================] - 252s 6s/step - loss: 0.2972 - accuracy: 0.9810 - val_loss: 1.8432 - val_accuracy: 0.3785 - lr: 1.0000e-07\n",
      "Epoch 18/20\n",
      "38/38 [==============================] - 252s 6s/step - loss: 0.2974 - accuracy: 0.9781 - val_loss: 1.8264 - val_accuracy: 0.3802 - lr: 1.0000e-07\n",
      "Epoch 19/20\n",
      "38/38 [==============================] - ETA: 0s - loss: 0.2996 - accuracy: 0.9781\n",
      "Epoch 19: ReduceLROnPlateau reducing learning rate to 1.0000000116860975e-08.\n",
      "38/38 [==============================] - 254s 6s/step - loss: 0.2996 - accuracy: 0.9781 - val_loss: 1.8545 - val_accuracy: 0.3698 - lr: 1.0000e-07\n",
      "Epoch 20/20\n",
      "38/38 [==============================] - 260s 6s/step - loss: 0.2931 - accuracy: 0.9827 - val_loss: 1.8149 - val_accuracy: 0.3924 - lr: 1.0000e-08\n"
     ]
    }
   ],
   "source": [
    "# Train the model - all layers\n",
    "history1 = model.fit_generator(generator=train_generator, steps_per_epoch=STEP_SIZE_TRAIN,\n",
    "                              validation_data=valid_generator, validation_steps=STEP_SIZE_VALID,\n",
    "                              epochs=n_epoch,\n",
    "                              shuffle=True,\n",
    "                              verbose=1,\n",
    "                              callbacks=[reduce_lr],\n",
    "                              use_multiprocessing=True,\n",
    "                              workers=16,\n",
    "                              class_weight=class_weights\n",
    "                             )"
   ]
  },
  {
   "cell_type": "code",
   "execution_count": 28,
   "id": "c81fd1a7",
   "metadata": {
    "scrolled": false
   },
   "outputs": [
    {
     "name": "stderr",
     "output_type": "stream",
     "text": [
      "/home/jupyter-k7a506/.local/lib/python3.9/site-packages/keras/optimizers/optimizer_v2/adam.py:114: UserWarning: The `lr` argument is deprecated, use `learning_rate` instead.\n",
      "  super().__init__(name, **kwargs)\n",
      "/tmp/ipykernel_3491763/2442743920.py:15: UserWarning: `Model.fit_generator` is deprecated and will be removed in a future version. Please use `Model.fit`, which supports generators.\n",
      "  history2 = model.fit_generator(generator=train_generator, steps_per_epoch=STEP_SIZE_TRAIN,\n"
     ]
    },
    {
     "name": "stdout",
     "output_type": "stream",
     "text": [
      "Epoch 1/50\n",
      "38/38 [==============================] - 243s 6s/step - loss: 0.2550 - accuracy: 0.9857 - val_loss: 1.8243 - val_accuracy: 0.3767 - lr: 1.0000e-04\n",
      "Epoch 2/50\n",
      "38/38 [==============================] - 241s 6s/step - loss: 0.2299 - accuracy: 0.9874 - val_loss: 1.8322 - val_accuracy: 0.3958 - lr: 1.0000e-04\n",
      "Epoch 3/50\n",
      "38/38 [==============================] - 245s 6s/step - loss: 0.2213 - accuracy: 0.9874 - val_loss: 1.8395 - val_accuracy: 0.3733 - lr: 1.0000e-04\n",
      "Epoch 4/50\n",
      "38/38 [==============================] - 247s 6s/step - loss: 0.2123 - accuracy: 0.9861 - val_loss: 1.7501 - val_accuracy: 0.4219 - lr: 1.0000e-04\n",
      "Epoch 5/50\n",
      "38/38 [==============================] - 248s 6s/step - loss: 0.2067 - accuracy: 0.9882 - val_loss: 1.8418 - val_accuracy: 0.4097 - lr: 1.0000e-04\n",
      "Epoch 6/50\n",
      "38/38 [==============================] - 245s 6s/step - loss: 0.2053 - accuracy: 0.9861 - val_loss: 1.8350 - val_accuracy: 0.4080 - lr: 1.0000e-04\n",
      "Epoch 7/50\n",
      "38/38 [==============================] - 253s 6s/step - loss: 0.2005 - accuracy: 0.9857 - val_loss: 1.7609 - val_accuracy: 0.4097 - lr: 1.0000e-04\n",
      "Epoch 8/50\n",
      "38/38 [==============================] - 248s 6s/step - loss: 0.1940 - accuracy: 0.9878 - val_loss: 1.7805 - val_accuracy: 0.4062 - lr: 1.0000e-04\n",
      "Epoch 9/50\n",
      "38/38 [==============================] - ETA: 0s - loss: 0.1858 - accuracy: 0.9903\n",
      "Epoch 9: ReduceLROnPlateau reducing learning rate to 9.999999747378752e-06.\n",
      "38/38 [==============================] - 250s 6s/step - loss: 0.1858 - accuracy: 0.9903 - val_loss: 1.8008 - val_accuracy: 0.4115 - lr: 1.0000e-04\n",
      "Epoch 10/50\n",
      "38/38 [==============================] - 251s 6s/step - loss: 0.1827 - accuracy: 0.9903 - val_loss: 1.8218 - val_accuracy: 0.3889 - lr: 1.0000e-05\n",
      "Epoch 11/50\n",
      "38/38 [==============================] - 247s 6s/step - loss: 0.1807 - accuracy: 0.9899 - val_loss: 1.8615 - val_accuracy: 0.4010 - lr: 1.0000e-05\n",
      "Epoch 12/50\n",
      "38/38 [==============================] - 248s 6s/step - loss: 0.1793 - accuracy: 0.9899 - val_loss: 1.8123 - val_accuracy: 0.4184 - lr: 1.0000e-05\n",
      "Epoch 13/50\n",
      "38/38 [==============================] - 248s 6s/step - loss: 0.1769 - accuracy: 0.9903 - val_loss: 1.8012 - val_accuracy: 0.4045 - lr: 1.0000e-05\n",
      "Epoch 14/50\n",
      "38/38 [==============================] - ETA: 0s - loss: 0.1762 - accuracy: 0.9895\n",
      "Epoch 14: ReduceLROnPlateau reducing learning rate to 9.999999747378752e-07.\n",
      "38/38 [==============================] - 251s 6s/step - loss: 0.1762 - accuracy: 0.9895 - val_loss: 1.8249 - val_accuracy: 0.4045 - lr: 1.0000e-05\n",
      "Epoch 15/50\n",
      "38/38 [==============================] - 259s 6s/step - loss: 0.1808 - accuracy: 0.9878 - val_loss: 1.8007 - val_accuracy: 0.4028 - lr: 1.0000e-06\n",
      "Epoch 16/50\n",
      "38/38 [==============================] - 343s 9s/step - loss: 0.1773 - accuracy: 0.9857 - val_loss: 1.8178 - val_accuracy: 0.4010 - lr: 1.0000e-06\n",
      "Epoch 17/50\n",
      "38/38 [==============================] - 346s 9s/step - loss: 0.1775 - accuracy: 0.9882 - val_loss: 1.8279 - val_accuracy: 0.4028 - lr: 1.0000e-06\n",
      "Epoch 18/50\n",
      "38/38 [==============================] - 344s 9s/step - loss: 0.1805 - accuracy: 0.9895 - val_loss: 1.7780 - val_accuracy: 0.4062 - lr: 1.0000e-06\n",
      "Epoch 19/50\n",
      "38/38 [==============================] - ETA: 0s - loss: 0.1792 - accuracy: 0.9878\n",
      "Epoch 19: ReduceLROnPlateau reducing learning rate to 9.999999974752428e-08.\n",
      "38/38 [==============================] - 325s 8s/step - loss: 0.1792 - accuracy: 0.9878 - val_loss: 1.8041 - val_accuracy: 0.4045 - lr: 1.0000e-06\n",
      "Epoch 20/50\n",
      "38/38 [==============================] - 348s 9s/step - loss: 0.1765 - accuracy: 0.9890 - val_loss: 1.7840 - val_accuracy: 0.4080 - lr: 1.0000e-07\n",
      "Epoch 21/50\n",
      "38/38 [==============================] - 352s 9s/step - loss: 0.1777 - accuracy: 0.9874 - val_loss: 1.8282 - val_accuracy: 0.3906 - lr: 1.0000e-07\n",
      "Epoch 22/50\n",
      "38/38 [==============================] - 342s 9s/step - loss: 0.1793 - accuracy: 0.9899 - val_loss: 1.8474 - val_accuracy: 0.3958 - lr: 1.0000e-07\n",
      "Epoch 23/50\n",
      "38/38 [==============================] - 357s 9s/step - loss: 0.1747 - accuracy: 0.9903 - val_loss: 1.8140 - val_accuracy: 0.4080 - lr: 1.0000e-07\n",
      "Epoch 24/50\n",
      "38/38 [==============================] - ETA: 0s - loss: 0.1784 - accuracy: 0.9882\n",
      "Epoch 24: ReduceLROnPlateau reducing learning rate to 1.0000000116860975e-08.\n",
      "Restoring model weights from the end of the best epoch: 4.\n",
      "38/38 [==============================] - 341s 8s/step - loss: 0.1784 - accuracy: 0.9882 - val_loss: 1.8239 - val_accuracy: 0.4062 - lr: 1.0000e-07\n",
      "Epoch 24: early stopping\n"
     ]
    }
   ],
   "source": [
    "# Freeze core ResNet layers and train again \n",
    "for layer in model.layers:\n",
    "    layer.trainable = False\n",
    "\n",
    "for layer in model.layers[:50]:\n",
    "    layer.trainable = True\n",
    "\n",
    "optimizer = Adam(lr=0.0001)\n",
    "\n",
    "model.compile(loss='categorical_crossentropy',\n",
    "              optimizer=optimizer, \n",
    "              metrics=['accuracy'])\n",
    "\n",
    "n_epoch = 50\n",
    "history2 = model.fit_generator(generator=train_generator, steps_per_epoch=STEP_SIZE_TRAIN,\n",
    "                              validation_data=valid_generator, validation_steps=STEP_SIZE_VALID,\n",
    "                              epochs=n_epoch,\n",
    "                              shuffle=True,\n",
    "                              verbose=1,\n",
    "                              callbacks=[reduce_lr, early_stop],\n",
    "                              use_multiprocessing=True,\n",
    "                              workers=16,\n",
    "                              class_weight=class_weights\n",
    "                             )"
   ]
  },
  {
   "cell_type": "code",
   "execution_count": 30,
   "id": "3942924a",
   "metadata": {},
   "outputs": [],
   "source": [
    "model.save('resnet50.h5')\n",
    "# torch.save(net.state_dict(), 'resnet50_state_dict.pt')"
   ]
  },
  {
   "cell_type": "code",
   "execution_count": 38,
   "id": "26936bac",
   "metadata": {
    "scrolled": true
   },
   "outputs": [
    {
     "data": {
      "text/plain": [
       "{'loss': [0.3371359407901764,\n",
       "  0.33045342564582825,\n",
       "  0.32281050086021423,\n",
       "  0.32597824931144714,\n",
       "  0.31850939989089966,\n",
       "  0.3091137111186981,\n",
       "  0.3103533685207367,\n",
       "  0.3035227954387665,\n",
       "  0.30554261803627014,\n",
       "  0.29435938596725464,\n",
       "  0.3011374771595001,\n",
       "  0.30727168917655945,\n",
       "  0.2962315082550049,\n",
       "  0.29566049575805664,\n",
       "  0.2950610816478729,\n",
       "  0.297534704208374,\n",
       "  0.29724785685539246,\n",
       "  0.2973853349685669,\n",
       "  0.2996280789375305,\n",
       "  0.293105810880661],\n",
       " 'accuracy': [0.962931752204895,\n",
       "  0.9734625220298767,\n",
       "  0.971777617931366,\n",
       "  0.9692502021789551,\n",
       "  0.9743049740791321,\n",
       "  0.9761512875556946,\n",
       "  0.978096067905426,\n",
       "  0.978096067905426,\n",
       "  0.9768323302268982,\n",
       "  0.9839932322502136,\n",
       "  0.9802021980285645,\n",
       "  0.9738837480545044,\n",
       "  0.9818871021270752,\n",
       "  0.9839637875556946,\n",
       "  0.9831507802009583,\n",
       "  0.9810446500778198,\n",
       "  0.9810446500778198,\n",
       "  0.978096067905426,\n",
       "  0.978096067905426,\n",
       "  0.9827295541763306],\n",
       " 'val_loss': [1.8228590488433838,\n",
       "  1.8385213613510132,\n",
       "  1.823171854019165,\n",
       "  1.776954174041748,\n",
       "  1.8194787502288818,\n",
       "  1.7999809980392456,\n",
       "  1.8476014137268066,\n",
       "  1.81010901927948,\n",
       "  1.819070816040039,\n",
       "  1.823829174041748,\n",
       "  1.81672203540802,\n",
       "  1.8061853647232056,\n",
       "  1.816760540008545,\n",
       "  1.8048125505447388,\n",
       "  1.8563270568847656,\n",
       "  1.8102402687072754,\n",
       "  1.843170404434204,\n",
       "  1.8263778686523438,\n",
       "  1.8545057773590088,\n",
       "  1.8148841857910156],\n",
       " 'val_accuracy': [0.3836805522441864,\n",
       "  0.390625,\n",
       "  0.3680555522441864,\n",
       "  0.3923611044883728,\n",
       "  0.3958333432674408,\n",
       "  0.3802083432674408,\n",
       "  0.3923611044883728,\n",
       "  0.390625,\n",
       "  0.3697916567325592,\n",
       "  0.3819444477558136,\n",
       "  0.390625,\n",
       "  0.3784722089767456,\n",
       "  0.3767361044883728,\n",
       "  0.3802083432674408,\n",
       "  0.3732638955116272,\n",
       "  0.375,\n",
       "  0.3784722089767456,\n",
       "  0.3802083432674408,\n",
       "  0.3697916567325592,\n",
       "  0.3923611044883728],\n",
       " 'lr': [1e-05,\n",
       "  1e-05,\n",
       "  1e-05,\n",
       "  1e-05,\n",
       "  1e-05,\n",
       "  1e-05,\n",
       "  1e-05,\n",
       "  1e-05,\n",
       "  1e-05,\n",
       "  1e-06,\n",
       "  1e-06,\n",
       "  1e-06,\n",
       "  1e-06,\n",
       "  1e-06,\n",
       "  1e-07,\n",
       "  1e-07,\n",
       "  1e-07,\n",
       "  1e-07,\n",
       "  1e-07,\n",
       "  1e-08]}"
      ]
     },
     "execution_count": 38,
     "metadata": {},
     "output_type": "execute_result"
    }
   ],
   "source": [
    "history1.history"
   ]
  },
  {
   "cell_type": "code",
   "execution_count": 39,
   "id": "ff6f445f",
   "metadata": {},
   "outputs": [
    {
     "data": {
      "text/plain": [
       "{'loss': [0.2550278604030609,\n",
       "  0.22987721860408783,\n",
       "  0.22125133872032166,\n",
       "  0.212260901927948,\n",
       "  0.20672115683555603,\n",
       "  0.20530518889427185,\n",
       "  0.20045098662376404,\n",
       "  0.19398343563079834,\n",
       "  0.18583187460899353,\n",
       "  0.18269285559654236,\n",
       "  0.18074795603752136,\n",
       "  0.17925824224948883,\n",
       "  0.1768510341644287,\n",
       "  0.1762232482433319,\n",
       "  0.1807766556739807,\n",
       "  0.1772855967283249,\n",
       "  0.17754729092121124,\n",
       "  0.18053431808948517,\n",
       "  0.1792164444923401,\n",
       "  0.17648807168006897,\n",
       "  0.17774753272533417,\n",
       "  0.17931796610355377,\n",
       "  0.17470401525497437,\n",
       "  0.17836567759513855],\n",
       " 'accuracy': [0.9856781959533691,\n",
       "  0.9873631000518799,\n",
       "  0.9873631000518799,\n",
       "  0.9860994219779968,\n",
       "  0.9882055521011353,\n",
       "  0.9860994219779968,\n",
       "  0.9856781959533691,\n",
       "  0.9877843260765076,\n",
       "  0.9903116822242737,\n",
       "  0.9903116822242737,\n",
       "  0.989890456199646,\n",
       "  0.989890456199646,\n",
       "  0.9903116822242737,\n",
       "  0.9894692301750183,\n",
       "  0.9877843260765076,\n",
       "  0.9856781959533691,\n",
       "  0.9882055521011353,\n",
       "  0.9894692301750183,\n",
       "  0.9877843260765076,\n",
       "  0.9890480041503906,\n",
       "  0.9873631000518799,\n",
       "  0.989890456199646,\n",
       "  0.9903116822242737,\n",
       "  0.9882055521011353],\n",
       " 'val_loss': [1.8242793083190918,\n",
       "  1.8322492837905884,\n",
       "  1.8394548892974854,\n",
       "  1.7500669956207275,\n",
       "  1.8417562246322632,\n",
       "  1.8349851369857788,\n",
       "  1.7608647346496582,\n",
       "  1.7805466651916504,\n",
       "  1.8008382320404053,\n",
       "  1.8218176364898682,\n",
       "  1.8614921569824219,\n",
       "  1.8123468160629272,\n",
       "  1.801156997680664,\n",
       "  1.8248742818832397,\n",
       "  1.8006796836853027,\n",
       "  1.8178247213363647,\n",
       "  1.827882170677185,\n",
       "  1.7780115604400635,\n",
       "  1.8040556907653809,\n",
       "  1.7840027809143066,\n",
       "  1.8281985521316528,\n",
       "  1.8474265336990356,\n",
       "  1.8140043020248413,\n",
       "  1.8239012956619263],\n",
       " 'val_accuracy': [0.3767361044883728,\n",
       "  0.3958333432674408,\n",
       "  0.3732638955116272,\n",
       "  0.421875,\n",
       "  0.4097222089767456,\n",
       "  0.4079861044883728,\n",
       "  0.4097222089767456,\n",
       "  0.40625,\n",
       "  0.4114583432674408,\n",
       "  0.3888888955116272,\n",
       "  0.4010416567325592,\n",
       "  0.4184027910232544,\n",
       "  0.4045138955116272,\n",
       "  0.4045138955116272,\n",
       "  0.4027777910232544,\n",
       "  0.4010416567325592,\n",
       "  0.4027777910232544,\n",
       "  0.40625,\n",
       "  0.4045138955116272,\n",
       "  0.4079861044883728,\n",
       "  0.390625,\n",
       "  0.3958333432674408,\n",
       "  0.4079861044883728,\n",
       "  0.40625],\n",
       " 'lr': [1e-04,\n",
       "  1e-04,\n",
       "  1e-04,\n",
       "  1e-04,\n",
       "  1e-04,\n",
       "  1e-04,\n",
       "  1e-04,\n",
       "  1e-04,\n",
       "  1e-04,\n",
       "  1e-05,\n",
       "  1e-05,\n",
       "  1e-05,\n",
       "  1e-05,\n",
       "  1e-05,\n",
       "  1e-06,\n",
       "  1e-06,\n",
       "  1e-06,\n",
       "  1e-06,\n",
       "  1e-06,\n",
       "  1e-07,\n",
       "  1e-07,\n",
       "  1e-07,\n",
       "  1e-07,\n",
       "  1e-07]}"
      ]
     },
     "execution_count": 39,
     "metadata": {},
     "output_type": "execute_result"
    }
   ],
   "source": [
    "history2.history"
   ]
  },
  {
   "cell_type": "code",
   "execution_count": 42,
   "id": "793235fc",
   "metadata": {},
   "outputs": [],
   "source": [
    "# Merge history1 and history2\n",
    "history = {}\n",
    "history['loss'] = history1.history['loss'] + history2.history['loss']\n",
    "history['acc'] = history1.history['accuracy'] + history2.history['accuracy']\n",
    "history['val_loss'] = history1.history['val_loss'] + history2.history['val_loss']\n",
    "history['val_acc'] = history1.history['val_accuracy'] + history2.history['val_accuracy']\n",
    "history['lr'] = history1.history['lr'] + history2.history['lr']"
   ]
  },
  {
   "cell_type": "code",
   "execution_count": 43,
   "id": "c64213ef",
   "metadata": {},
   "outputs": [
    {
     "data": {
      "image/png": "[encoded data removed]",
      "text/plain": [
       "<Figure size 1500x500 with 2 Axes>"
      ]
     },
     "metadata": {},
     "output_type": "display_data"
    }
   ],
   "source": [
    "# Plot the training graph\n",
    "def plot_training(history):\n",
    "    acc = history['acc']\n",
    "    val_acc = history['val_acc']\n",
    "    loss = history['loss']\n",
    "    val_loss = history['val_loss']\n",
    "    epochs = range(len(acc))\n",
    "\n",
    "    fig, axes = plt.subplots(1, 2, figsize=(15,5))\n",
    "    \n",
    "    axes[0].plot(epochs, acc, 'r-', label='Training Accuracy')\n",
    "    axes[0].plot(epochs, val_acc, 'b--', label='Validation Accuracy')\n",
    "    axes[0].set_title('Training and Validation Accuracy')\n",
    "    axes[0].legend(loc='best')\n",
    "\n",
    "    axes[1].plot(epochs, loss, 'r-', label='Training Loss')\n",
    "    axes[1].plot(epochs, val_loss, 'b--', label='Validation Loss')\n",
    "    axes[1].set_title('Training and Validation Loss')\n",
    "    axes[1].legend(loc='best')\n",
    "    \n",
    "    plt.show()\n",
    "    \n",
    "plot_training(history)"
   ]
  },
  {
   "cell_type": "code",
   "execution_count": 52,
   "id": "c092886a",
   "metadata": {},
   "outputs": [
    {
     "name": "stdout",
     "output_type": "stream",
     "text": [
      "1/1 [==============================] - 4s 4s/step\n",
      "2/2 [==============================] - 3s 1s/step\n",
      "2/2 [==============================] - 3s 1s/step\n",
      "2/2 [==============================] - 2s 1s/step\n",
      "2/2 [==============================] - 2s 758ms/step\n",
      "2/2 [==============================] - 2s 852ms/step\n",
      "2/2 [==============================] - 3s 2s/step\n",
      "2/2 [==============================] - 2s 679ms/step\n",
      "2/2 [==============================] - 2s 566ms/step\n"
     ]
    },
    {
     "data": {
      "image/png": "[encoded data removed]",
      "text/plain": [
       "<Figure size 1000x1000 with 1 Axes>"
      ]
     },
     "metadata": {},
     "output_type": "display_data"
    },
    {
     "name": "stdout",
     "output_type": "stream",
     "text": [
      "Classification Report:\n",
      "              precision    recall  f1-score   support\n",
      "\n",
      "     sadness       0.53      0.25      0.34       139\n",
      "       anger       0.31      0.54      0.40        79\n",
      "        love       0.60      0.58      0.59       115\n",
      "        fear       0.30      0.28      0.29        25\n",
      "    surprise       0.45      0.49      0.47        81\n",
      "         joy       0.32      0.37      0.34       104\n",
      "\n",
      "    accuracy                           0.42       543\n",
      "   macro avg       0.42      0.42      0.41       543\n",
      "weighted avg       0.45      0.42      0.42       543\n",
      "\n"
     ]
    }
   ],
   "source": [
    "# Classification report and confusion matrix\n",
    "from sklearn.metrics import *\n",
    "import seaborn as sns\n",
    "\n",
    "tick_labels = emotion_dirs\n",
    "\n",
    "def showClassficationReport_Generator(model, valid_generator, STEP_SIZE_VALID):\n",
    "    # Loop on each generator batch and predict\n",
    "    y_pred, y_true = [], []\n",
    "    for i in range(STEP_SIZE_VALID):\n",
    "        (X,y) = next(valid_generator)\n",
    "        y_pred.append(model.predict(X))\n",
    "        y_true.append(y)\n",
    "    \n",
    "    # Create a flat list for y_true and y_pred\n",
    "    y_pred = [subresult for result in y_pred for subresult in result]\n",
    "    y_true = [subresult for result in y_true for subresult in result]\n",
    "    \n",
    "    # Update Truth vector based on argmax\n",
    "    y_true = np.argmax(y_true, axis=1)\n",
    "    y_true = np.asarray(y_true).ravel()\n",
    "    \n",
    "    # Update Prediction vector based on argmax\n",
    "    y_pred = np.argmax(y_pred, axis=1)\n",
    "    y_pred = np.asarray(y_pred).ravel()\n",
    "    \n",
    "    # Confusion Matrix\n",
    "    fig, ax = plt.subplots(figsize=(10,10))\n",
    "    conf_matrix = confusion_matrix(y_true, y_pred, labels=np.arange(n_classes))\n",
    "    conf_matrix = conf_matrix/np.sum(conf_matrix, axis=1)\n",
    "    sns.heatmap(conf_matrix, annot=True, fmt=\".2f\", square=True, cbar=False, \n",
    "                cmap=plt.cm.jet, xticklabels=tick_labels, yticklabels=tick_labels,\n",
    "                ax=ax)\n",
    "    ax.set_ylabel('Actual')\n",
    "    ax.set_xlabel('Predicted')\n",
    "    ax.set_title('Confusion Matrix')\n",
    "    plt.show()\n",
    "    \n",
    "    print('Classification Report:')\n",
    "    print(classification_report(y_true, y_pred, labels=np.arange(n_classes), target_names=emotion_dirs))\n",
    "\n",
    "showClassficationReport_Generator(model, valid_generator, STEP_SIZE_VALID)"
   ]
  },
  {
   "cell_type": "code",
   "execution_count": null,
   "id": "ded1a613",
   "metadata": {},
   "outputs": [],
   "source": []
  },
  {
   "cell_type": "code",
   "execution_count": null,
   "id": "94e82e65",
   "metadata": {},
   "outputs": [],
   "source": []
  },
  {
   "cell_type": "code",
   "execution_count": null,
   "id": "abb92b4b",
   "metadata": {},
   "outputs": [],
   "source": []
  },
  {
   "cell_type": "code",
   "execution_count": null,
   "id": "c3c12aae",
   "metadata": {},
   "outputs": [],
   "source": []
  },
  {
   "cell_type": "code",
   "execution_count": null,
   "id": "8c276ceb",
   "metadata": {},
   "outputs": [],
   "source": []
  },
  {
   "cell_type": "code",
   "execution_count": null,
   "id": "c1689f1b",
   "metadata": {},
   "outputs": [],
   "source": []
  },
  {
   "cell_type": "code",
   "execution_count": null,
   "id": "5cafca78",
   "metadata": {},
   "outputs": [],
   "source": []
  },
  {
   "cell_type": "code",
   "execution_count": 2,
   "id": "0bea3610",
   "metadata": {},
   "outputs": [],
   "source": [
    "transform = transforms.Compose([\n",
    "    transforms.ToTensor(), #이미지 데이터를 tensor 데이터 포멧으로 바꾸어줍니다.\n",
    "    transforms.Resize([224,224]), #이미지의 크기가 다를 수 있으니 크기를 통일해 줍니다.\n",
    "    \n",
    "    transforms.RandomHorizontalFlip(),\n",
    "    transforms.RandomVerticalFlip(),\n",
    "    transforms.Normalize(mean=(0.52273315, 0.52848613, 0.5472654), std=(0.21402003, 0.202031, 0.22438332)) # 이미지들의 픽셀 r, g, b의 평균 => 아래 코드에 구하는 부분있으니 참고할 것\n",
    "])"
   ]
  },
  {
   "cell_type": "code",
   "execution_count": null,
   "id": "a383f605",
   "metadata": {},
   "outputs": [],
   "source": [
    "input_size = 784 # img_size = (28,28) ---> 28*28=784 in total\n",
    "\n",
    "hidden_size = 500 # hidden layer의 노드 개수\n",
    "num_classes = 6 #  [0,9]까지 class의 개수\n",
    "num_epochs = 10 # 하단 링크 참조\n",
    "batch_size = 32 # 하단 링크 참조\n",
    "num_workers = 1\n",
    "lr = 1e-3 # learning rate로 backpropagation시 움직이는 스텝의 크기를 결정 "
   ]
  },
  {
   "cell_type": "code",
   "execution_count": 5,
   "id": "cd131439",
   "metadata": {},
   "outputs": [
    {
     "data": {
      "text/plain": [
       "Dataset ImageFolder\n",
       "    Number of datapoints: 3045\n",
       "    Root location: ./image2/\n",
       "    StandardTransform\n",
       "Transform: Compose(\n",
       "               ToTensor()\n",
       "               Resize(size=[224, 224], interpolation=bilinear, max_size=None, antialias=None)\n",
       "               RandomHorizontalFlip(p=0.5)\n",
       "               RandomVerticalFlip(p=0.5)\n",
       "               Normalize(mean=(0.52273315, 0.52848613, 0.5472654), std=(0.21402003, 0.202031, 0.22438332))\n",
       "           )"
      ]
     },
     "execution_count": 5,
     "metadata": {},
     "output_type": "execute_result"
    }
   ],
   "source": [
    "train_data = datasets.ImageFolder(root='./image2/',transform=transform)\n",
    "train_data"
   ]
  },
  {
   "cell_type": "code",
   "execution_count": 8,
   "id": "bea11155",
   "metadata": {},
   "outputs": [],
   "source": [
    "train_idx, valid_idx = train_test_split(np.arange(len(train_data)), test_size=0.2, train_size = 0.8,\n",
    "                                        random_state=42, shuffle=True, stratify=train_data.targets)"
   ]
  },
  {
   "cell_type": "code",
   "execution_count": null,
   "id": "4e8a2d97",
   "metadata": {},
   "outputs": [],
   "source": [
    "train_loader = DataLoader(train_data, batch_size=batch_size, \n",
    "                          sampler=SubsetRandomSampler(train_idx), num_workers=num_workers)\n",
    "valid_loader = DataLoader(train_data, batch_size=batch_size, \n",
    "                          sampler=SubsetRandomSampler(valid_idx), num_workers=num_workers)"
   ]
  },
  {
   "cell_type": "code",
   "execution_count": null,
   "id": "ef552efb",
   "metadata": {},
   "outputs": [],
   "source": []
  },
  {
   "cell_type": "code",
   "execution_count": null,
   "id": "289df468",
   "metadata": {},
   "outputs": [],
   "source": []
  },
  {
   "cell_type": "code",
   "execution_count": null,
   "id": "780072a8",
   "metadata": {},
   "outputs": [],
   "source": []
  },
  {
   "cell_type": "code",
   "execution_count": null,
   "id": "27222102",
   "metadata": {},
   "outputs": [],
   "source": []
  },
  {
   "cell_type": "code",
   "execution_count": null,
   "id": "ce252c21",
   "metadata": {},
   "outputs": [],
   "source": []
  },
  {
   "cell_type": "code",
   "execution_count": null,
   "id": "7fd8fcb0",
   "metadata": {},
   "outputs": [],
   "source": []
  }
 ],
 "metadata": {
  "kernelspec": {
   "display_name": "Python 3 (ipykernel)",
   "language": "python",
   "name": "python3"
  },
  "language_info": {
   "codemirror_mode": {
    "name": "ipython",
    "version": 3
   },
   "file_extension": ".py",
   "mimetype": "text/x-python",
   "name": "python",
   "nbconvert_exporter": "python",
   "pygments_lexer": "ipython3",
   "version": "3.9.7"
  }
 },
 "nbformat": 4,
 "nbformat_minor": 5
}
