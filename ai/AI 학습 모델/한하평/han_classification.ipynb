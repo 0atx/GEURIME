{
 "cells": [
  {
   "cell_type": "code",
   "execution_count": 1,
   "metadata": {
    "id": "YGDhUuF6Beai"
   },
   "outputs": [],
   "source": [
    "#필요한 library 들을 load 합니다.\n",
    "import os \n",
    "\n",
    "import random\n",
    "import numpy as np\n",
    "from tqdm import tqdm\n",
    "\n",
    "import torch\n",
    "from torchvision import datasets, models, transforms\n",
    "import torch.nn as nn\n",
    "from torch.nn import functional as F\n",
    "import torch.optim as optim\n",
    "import torchvision.transforms as transforms\n",
    "\n",
    "from multiprocessing import cpu_count\n",
    "from torch.utils.data import Dataset, DataLoader, SubsetRandomSampler\n",
    "from torch.nn import CrossEntropyLoss\n",
    "from torchvision.models import efficientnet_v2_s\n",
    "from torchvision.models import efficientnet_b0\n",
    "from torchvision.models.efficientnet import EfficientNet_V2_S_Weights\n",
    "from torchvision.models import EfficientNet_B0_Weights\n",
    "from sklearn.model_selection import train_test_split\n",
    "\n",
    "from PIL import Image"
   ]
  },
  {
   "cell_type": "code",
   "execution_count": 2,
   "metadata": {
    "colab": {
     "base_uri": "https://localhost:8080/"
    },
    "id": "9-7fiSdFBjpv",
    "outputId": "9d1920e2-35c0-4ade-fb66-30755bfbef8f"
   },
   "outputs": [
    {
     "name": "stdout",
     "output_type": "stream",
     "text": [
      "다음 기기로 학습합니다: cpu\n"
     ]
    }
   ],
   "source": [
    "USE_CUDA = torch.cuda.is_available() # GPU를 사용가능하면 True, 아니라면 False를 리턴\n",
    "device = torch.device(\"cuda\" if USE_CUDA else \"cpu\") # GPU 사용 가능하면 사용하고 아니면 CPU 사용\n",
    "print(\"다음 기기로 학습합니다:\", device)\n",
    "\n",
    "# from google.colab import drive\n",
    "# drive.mount('/content/jdrive/')"
   ]
  },
  {
   "cell_type": "code",
   "execution_count": 5,
   "metadata": {
    "colab": {
     "base_uri": "https://localhost:8080/"
    },
    "id": "E_f4lIqpLDej",
    "outputId": "f7bd0d3b-f846-43ec-b07c-0fc1c86e9f85"
   },
   "outputs": [
    {
     "name": "stdout",
     "output_type": "stream",
     "text": [
      "[WinError 2] 지정된 파일을 찾을 수 없습니다: '/data/'\n",
      "C:\\Users\\SSAFY\\Desktop\\bamboo_picture\n"
     ]
    }
   ],
   "source": [
    "%cd /data/"
   ]
  },
  {
   "cell_type": "code",
   "execution_count": 32,
   "metadata": {
    "id": "Ubs4A5WPLzoE"
   },
   "outputs": [],
   "source": [
    "!rm -rf /content/image"
   ]
  },
  {
   "cell_type": "code",
   "execution_count": 33,
   "metadata": {
    "id": "sZAjHedgL_yr"
   },
   "outputs": [],
   "source": [
    "!rm -rf /content/__MACOSX"
   ]
  },
  {
   "cell_type": "code",
   "execution_count": 34,
   "metadata": {
    "id": "19I9EVzLJYDb"
   },
   "outputs": [],
   "source": [
    "!unzip -qq /content/jdrive/MyDrive/Colab\\ Notebooks/image.zip\n"
   ]
  },
  {
   "cell_type": "code",
   "execution_count": 3,
   "metadata": {
    "id": "nzLuJ9cnCQB6"
   },
   "outputs": [],
   "source": [
    "transform = transforms.Compose([\n",
    "    transforms.ToTensor(), #이미지 데이터를 tensor 데이터 포멧으로 바꾸어줍니다.\n",
    "    transforms.Resize([224,224]), #이미지의 크기가 다를 수 있으니 크기를 통일해 줍니다.\n",
    "    \n",
    "    transforms.RandomHorizontalFlip(),\n",
    "    transforms.RandomVerticalFlip(),\n",
    "    transforms.Normalize(mean=(0.52273315, 0.52848613, 0.5472654), std=(0.21402003, 0.202031, 0.22438332)) # 이미지들의 픽셀 r, g, b의 평균 => 아래 코드에 구하는 부분있으니 참고할 것\n",
    "])"
   ]
  },
  {
   "cell_type": "code",
   "execution_count": 4,
   "metadata": {
    "id": "O64tRJAjCWOD"
   },
   "outputs": [
    {
     "data": {
      "text/plain": [
       "Dataset ImageFolder\n",
       "    Number of datapoints: 3045\n",
       "    Root location: ./data/image2/\n",
       "    StandardTransform\n",
       "Transform: Compose(\n",
       "               ToTensor()\n",
       "               Resize(size=[224, 224], interpolation=bilinear, max_size=None, antialias=None)\n",
       "               RandomHorizontalFlip(p=0.5)\n",
       "               RandomVerticalFlip(p=0.5)\n",
       "               Normalize(mean=(0.52273315, 0.52848613, 0.5472654), std=(0.21402003, 0.202031, 0.22438332))\n",
       "           )"
      ]
     },
     "execution_count": 4,
     "metadata": {},
     "output_type": "execute_result"
    }
   ],
   "source": [
    "train_data = datasets.ImageFolder(root='./data/image2/',transform=transform)\n",
    "train_data"
   ]
  },
  {
   "cell_type": "code",
   "execution_count": 5,
   "metadata": {
    "id": "_noEcb89CwI7"
   },
   "outputs": [],
   "source": [
    "train_idx, valid_idx = train_test_split(np.arange(len(train_data)), test_size=0.2, train_size = 0.8,\n",
    "                                        random_state=42, shuffle=True, stratify=train_data.targets)"
   ]
  },
  {
   "cell_type": "code",
   "execution_count": 6,
   "metadata": {
    "id": "nYQBXnjaDF-4"
   },
   "outputs": [],
   "source": [
    "batch_size = 32 #batchsize는 2의배수롤 설정하시면 되는데 데이터 크기가 클수록 batch_size도 키워주시면 됩니다. 보통 32,64 사용하시면됩니다. 이 이상키우시면 cuda가 메모리양을 감당못하고 꺼질수있습니다.\n",
    "num_workers = 1"
   ]
  },
  {
   "cell_type": "code",
   "execution_count": 7,
   "metadata": {
    "id": "i9q71i5zDIWW"
   },
   "outputs": [],
   "source": [
    "train_loader = DataLoader(train_data, batch_size=batch_size, \n",
    "                          sampler=SubsetRandomSampler(train_idx), num_workers=num_workers)\n",
    "valid_loader = DataLoader(train_data, batch_size=batch_size, \n",
    "                          sampler=SubsetRandomSampler(valid_idx), num_workers=num_workers)"
   ]
  },
  {
   "cell_type": "markdown",
   "metadata": {
    "id": "Z8s6rC90jvfa"
   },
   "source": []
  },
  {
   "cell_type": "code",
   "execution_count": 8,
   "metadata": {
    "id": "B3wZPebcDKsx"
   },
   "outputs": [],
   "source": [
    "train_total = len(train_idx)\n",
    "valid_total = len(valid_idx)\n",
    "\n",
    "train_batches = len(train_loader)\n",
    "valid_batches = len(valid_loader)"
   ]
  },
  {
   "cell_type": "code",
   "execution_count": 9,
   "metadata": {
    "colab": {
     "base_uri": "https://localhost:8080/"
    },
    "id": "FT-hcqGQDMe2",
    "outputId": "2040260b-8bbe-42e2-d017-acf944fe9ff3"
   },
   "outputs": [
    {
     "name": "stdout",
     "output_type": "stream",
     "text": [
      "total train imgs : 2436 / total train batches : 77\n",
      "total valid imgs : 609 / total valid batches : 20\n"
     ]
    }
   ],
   "source": [
    "print('total train imgs :',train_total,'/ total train batches :', train_batches)\n",
    "print('total valid imgs :',valid_total, '/ total valid batches :', valid_batches)"
   ]
  },
  {
   "cell_type": "code",
   "execution_count": null,
   "metadata": {
    "colab": {
     "base_uri": "https://localhost:8080/"
    },
    "id": "h11p6gkWUAfv",
    "outputId": "283cb11e-27e1-4b51-9674-ce79e512c80b"
   },
   "outputs": [
    {
     "name": "stdout",
     "output_type": "stream",
     "text": [
      "0.52273315 0.52848613 0.5472654\n",
      "0.21402003 0.202031 0.22438332\n"
     ]
    }
   ],
   "source": [
    "# import numpy as np\n",
    "\n",
    "# meanRGB = [np.mean(x.numpy(), axis=(1,2)) for x,_ in train_loader]\n",
    "# stdRGB = [np.std(x.numpy(), axis=(1,2)) for x,_ in train_loader]\n",
    "\n",
    "# meanR = np.mean([m[0] for m in meanRGB])\n",
    "# meanG = np.mean([m[1] for m in meanRGB])\n",
    "# meanB = np.mean([m[2] for m in meanRGB])\n",
    "\n",
    "# stdR = np.mean([s[0] for s in stdRGB])\n",
    "# stdG = np.mean([s[1] for s in stdRGB])\n",
    "# stdB = np.mean([s[2] for s in stdRGB])\n",
    "\n",
    "# print(meanR, meanG, meanB)\n",
    "# print(stdR, stdG, stdB)"
   ]
  },
  {
   "cell_type": "code",
   "execution_count": 10,
   "metadata": {
    "id": "dWnXewZKxwhO"
   },
   "outputs": [],
   "source": [
    "class PretrainModel(nn.Module):\n",
    "    def __init__(self, pretrained):\n",
    "        super().__init__()\n",
    "        self.pretrained = pretrained\n",
    "        self.FC = nn.Linear(1000,6)\n",
    "    \n",
    "    def forward(self,x):\n",
    "        x = self.pretrained(x)\n",
    "        x = self.FC(x)\n",
    "        return x"
   ]
  },
  {
   "cell_type": "code",
   "execution_count": 11,
   "metadata": {
    "colab": {
     "base_uri": "https://localhost:8080/",
     "height": 67,
     "referenced_widgets": [
      "01e511a0ab2f40aeb22b7bc64c77d74c",
      "bce23f49c3e34a51912036b81ed1257e",
      "94f9b61eef8e44f9806c6a5158e9507e",
      "118c6c3f545c4ad48b83f06ff9e2a63e",
      "0eefafe63de945b895d996064e98edef",
      "ff5d47de7e634a429ae0da89d7c2d60b",
      "6d4afeb3f3094b2db0c2709140d61b80",
      "62a30131862540c6bb94db2b9020b4e0",
      "b748d0137f2d443e947b6cfd6579faeb",
      "8286df5ded3d426f861368c1ef9bd33a",
      "9b7ad5a64f984d47946a42a82069582d"
     ]
    },
    "id": "GzP9sZE8DOwS",
    "outputId": "9b18444f-1d21-4f3e-ceae-6771cef755d9"
   },
   "outputs": [],
   "source": [
    "weights = EfficientNet_V2_S_Weights.IMAGENET1K_V1\n",
    "pretrained = efficientnet_v2_s(weights = weights)"
   ]
  },
  {
   "cell_type": "code",
   "execution_count": 12,
   "metadata": {
    "id": "IsBj1Qx2DVvw"
   },
   "outputs": [],
   "source": [
    "net = PretrainModel(pretrained).to(device)"
   ]
  },
  {
   "cell_type": "code",
   "execution_count": 13,
   "metadata": {
    "id": "YuBlk9pkDYRk"
   },
   "outputs": [],
   "source": [
    "criterion = CrossEntropyLoss().to(device)\n",
    "#criterion = nn.BCEWithLogitsLoss().to(device)\n",
    "optimizer = optim.AdamW(params=net.parameters(), lr=0.001)\n",
    "#optimizer = torch.optim.SGD(params=net.parameters(), lr = 0.001)\n",
    "epochs = 20"
   ]
  },
  {
   "cell_type": "code",
   "execution_count": 14,
   "metadata": {
    "colab": {
     "background_save": true,
     "base_uri": "https://localhost:8080/"
    },
    "id": "5G1JucWpDago",
    "outputId": "05e43dbb-f5b7-409b-fbe3-1fd3f0c9cbe4"
   },
   "outputs": [
    {
     "name": "stderr",
     "output_type": "stream",
     "text": [
      "100%|██████████| 77/77 [09:23<00:00,  7.32s/it, Epoch=1, Loss=2.637541]\n",
      "100%|██████████| 20/20 [00:46<00:00,  2.33s/it, Epoch=1, Loss=0.026810]\n"
     ]
    },
    {
     "name": "stdout",
     "output_type": "stream",
     "text": [
      "epochs 1 train loss 1.4278439051145082 train acc 0.4548440065681445 valid loss 1.3963690700940787 valid acc 0.4466338259441708\n"
     ]
    },
    {
     "name": "stderr",
     "output_type": "stream",
     "text": [
      "100%|██████████| 77/77 [09:45<00:00,  7.61s/it, Epoch=2, Loss=0.656842]\n",
      "100%|██████████| 20/20 [00:50<00:00,  2.53s/it, Epoch=2, Loss=0.722407]\n"
     ]
    },
    {
     "name": "stdout",
     "output_type": "stream",
     "text": [
      "epochs 2 train loss 1.135394063088801 train acc 0.5890804597701149 valid loss 1.9963604182004928 valid acc 0.5796387520525451\n"
     ]
    },
    {
     "name": "stderr",
     "output_type": "stream",
     "text": [
      "100%|██████████| 77/77 [09:27<00:00,  7.37s/it, Epoch=3, Loss=0.811289]\n",
      "100%|██████████| 20/20 [00:47<00:00,  2.37s/it, Epoch=3, Loss=7.670651]\n"
     ]
    },
    {
     "name": "stdout",
     "output_type": "stream",
     "text": [
      "epochs 3 train loss 0.9536603511153877 train acc 0.6543513957307061 valid loss 1.5382653295993804 valid acc 0.5599343185550082\n"
     ]
    },
    {
     "name": "stderr",
     "output_type": "stream",
     "text": [
      "100%|██████████| 77/77 [09:25<00:00,  7.35s/it, Epoch=4, Loss=0.501361]\n",
      "100%|██████████| 20/20 [00:46<00:00,  2.32s/it, Epoch=4, Loss=1.708349]\n"
     ]
    },
    {
     "name": "stdout",
     "output_type": "stream",
     "text": [
      "epochs 4 train loss 0.8407447194898283 train acc 0.6982758620689655 valid loss 1.2921916872262955 valid acc 0.6026272577996716\n"
     ]
    },
    {
     "name": "stderr",
     "output_type": "stream",
     "text": [
      "100%|██████████| 77/77 [09:23<00:00,  7.32s/it, Epoch=5, Loss=1.066859]\n",
      "100%|██████████| 20/20 [00:46<00:00,  2.33s/it, Epoch=5, Loss=0.083707]\n"
     ]
    },
    {
     "name": "stdout",
     "output_type": "stream",
     "text": [
      "epochs 5 train loss 0.7130557430254949 train acc 0.7491789819376026 valid loss 1.016126077249646 valid acc 0.6584564860426929\n"
     ]
    },
    {
     "name": "stderr",
     "output_type": "stream",
     "text": [
      "100%|██████████| 77/77 [09:23<00:00,  7.32s/it, Epoch=6, Loss=0.727339]\n",
      "100%|██████████| 20/20 [00:46<00:00,  2.31s/it, Epoch=6, Loss=0.249202]\n"
     ]
    },
    {
     "name": "stdout",
     "output_type": "stream",
     "text": [
      "epochs 6 train loss 0.6656907823952761 train acc 0.7770935960591133 valid loss 0.9861220069229603 valid acc 0.6486042692939245\n"
     ]
    },
    {
     "name": "stderr",
     "output_type": "stream",
     "text": [
      "100%|██████████| 77/77 [09:27<00:00,  7.37s/it, Epoch=7, Loss=1.178646]\n",
      "100%|██████████| 20/20 [00:46<00:00,  2.34s/it, Epoch=7, Loss=0.326199]\n"
     ]
    },
    {
     "name": "stdout",
     "output_type": "stream",
     "text": [
      "epochs 7 train loss 0.64301675654851 train acc 0.7832512315270936 valid loss 0.9683196872472764 valid acc 0.6830870279146142\n"
     ]
    },
    {
     "name": "stderr",
     "output_type": "stream",
     "text": [
      "100%|██████████| 77/77 [09:31<00:00,  7.42s/it, Epoch=8, Loss=0.373486]\n",
      "100%|██████████| 20/20 [00:48<00:00,  2.42s/it, Epoch=8, Loss=0.277042]\n"
     ]
    },
    {
     "name": "stdout",
     "output_type": "stream",
     "text": [
      "epochs 8 train loss 0.5477752182390783 train acc 0.8156814449917899 valid loss 0.9612829655408859 valid acc 0.6748768472906403\n"
     ]
    },
    {
     "name": "stderr",
     "output_type": "stream",
     "text": [
      "100%|██████████| 77/77 [09:29<00:00,  7.40s/it, Epoch=9, Loss=0.669254]\n",
      "100%|██████████| 20/20 [00:47<00:00,  2.36s/it, Epoch=9, Loss=1.948888]\n"
     ]
    },
    {
     "name": "stdout",
     "output_type": "stream",
     "text": [
      "epochs 9 train loss 0.4852968849144973 train acc 0.8427750410509032 valid loss 1.1739505171775817 valid acc 0.6436781609195402\n"
     ]
    },
    {
     "name": "stderr",
     "output_type": "stream",
     "text": [
      "100%|██████████| 77/77 [09:23<00:00,  7.32s/it, Epoch=10, Loss=0.389551]\n",
      "100%|██████████| 20/20 [00:46<00:00,  2.34s/it, Epoch=10, Loss=0.180995]\n"
     ]
    },
    {
     "name": "stdout",
     "output_type": "stream",
     "text": [
      "epochs 10 train loss 0.5039306567473845 train acc 0.8201970443349754 valid loss 1.1404372692108153 valid acc 0.6288998357963875\n"
     ]
    },
    {
     "name": "stderr",
     "output_type": "stream",
     "text": [
      "100%|██████████| 77/77 [09:24<00:00,  7.33s/it, Epoch=11, Loss=0.999296]\n",
      "100%|██████████| 20/20 [00:46<00:00,  2.34s/it, Epoch=11, Loss=1.194685]\n"
     ]
    },
    {
     "name": "stdout",
     "output_type": "stream",
     "text": [
      "epochs 11 train loss 0.42349403564419064 train acc 0.8550903119868637 valid loss 1.3095514357089997 valid acc 0.6288998357963875\n"
     ]
    },
    {
     "name": "stderr",
     "output_type": "stream",
     "text": [
      "100%|██████████| 77/77 [09:24<00:00,  7.33s/it, Epoch=12, Loss=0.123028]\n",
      "100%|██████████| 20/20 [00:46<00:00,  2.34s/it, Epoch=12, Loss=0.166360]\n"
     ]
    },
    {
     "name": "stdout",
     "output_type": "stream",
     "text": [
      "epochs 12 train loss 0.4495164524618681 train acc 0.8456486042692939 valid loss 1.1433496974408626 valid acc 0.625615763546798\n"
     ]
    },
    {
     "name": "stderr",
     "output_type": "stream",
     "text": [
      "100%|██████████| 77/77 [09:26<00:00,  7.35s/it, Epoch=13, Loss=0.167293]\n",
      "100%|██████████| 20/20 [00:49<00:00,  2.45s/it, Epoch=13, Loss=0.263594]\n"
     ]
    },
    {
     "name": "stdout",
     "output_type": "stream",
     "text": [
      "epochs 13 train loss 0.3317294337532737 train acc 0.8924466338259441 valid loss 1.4089932665228844 valid acc 0.6288998357963875\n"
     ]
    },
    {
     "name": "stderr",
     "output_type": "stream",
     "text": [
      "100%|██████████| 77/77 [09:40<00:00,  7.55s/it, Epoch=14, Loss=1.061388]\n",
      "100%|██████████| 20/20 [00:48<00:00,  2.42s/it, Epoch=14, Loss=0.004176]\n"
     ]
    },
    {
     "name": "stdout",
     "output_type": "stream",
     "text": [
      "epochs 14 train loss 0.3837076188004636 train acc 0.8682266009852216 valid loss 1.1895820931065828 valid acc 0.6354679802955665\n"
     ]
    },
    {
     "name": "stderr",
     "output_type": "stream",
     "text": [
      "100%|██████████| 77/77 [09:24<00:00,  7.33s/it, Epoch=15, Loss=2.267619]\n",
      "100%|██████████| 20/20 [00:46<00:00,  2.33s/it, Epoch=15, Loss=1.866985]\n"
     ]
    },
    {
     "name": "stdout",
     "output_type": "stream",
     "text": [
      "epochs 15 train loss 0.3679160885996633 train acc 0.8809523809523809 valid loss 1.2840551778674125 valid acc 0.6617405582922824\n"
     ]
    },
    {
     "name": "stderr",
     "output_type": "stream",
     "text": [
      "100%|██████████| 77/77 [09:28<00:00,  7.38s/it, Epoch=16, Loss=0.740052]\n",
      "100%|██████████| 20/20 [00:46<00:00,  2.34s/it, Epoch=16, Loss=0.005487]\n"
     ]
    },
    {
     "name": "stdout",
     "output_type": "stream",
     "text": [
      "epochs 16 train loss 0.443398749383239 train acc 0.8472906403940886 valid loss 1.0792194277280942 valid acc 0.6748768472906403\n"
     ]
    },
    {
     "name": "stderr",
     "output_type": "stream",
     "text": [
      "100%|██████████| 77/77 [09:21<00:00,  7.29s/it, Epoch=17, Loss=0.732838]\n",
      "100%|██████████| 20/20 [00:47<00:00,  2.35s/it, Epoch=17, Loss=0.012514]\n"
     ]
    },
    {
     "name": "stdout",
     "output_type": "stream",
     "text": [
      "epochs 17 train loss 0.3276253489704875 train acc 0.8920361247947455 valid loss 1.1853633907157928 valid acc 0.6715927750410509\n"
     ]
    },
    {
     "name": "stderr",
     "output_type": "stream",
     "text": [
      "100%|██████████| 77/77 [09:31<00:00,  7.43s/it, Epoch=18, Loss=0.595301]\n",
      "100%|██████████| 20/20 [00:47<00:00,  2.36s/it, Epoch=18, Loss=1.131471]\n"
     ]
    },
    {
     "name": "stdout",
     "output_type": "stream",
     "text": [
      "epochs 18 train loss 0.393716188994321 train acc 0.867816091954023 valid loss 1.185584881901741 valid acc 0.6798029556650246\n"
     ]
    },
    {
     "name": "stderr",
     "output_type": "stream",
     "text": [
      "100%|██████████| 77/77 [09:35<00:00,  7.48s/it, Epoch=19, Loss=0.202055]\n",
      "100%|██████████| 20/20 [00:47<00:00,  2.39s/it, Epoch=19, Loss=0.024522]\n"
     ]
    },
    {
     "name": "stdout",
     "output_type": "stream",
     "text": [
      "epochs 19 train loss 0.26286000569725965 train acc 0.9100985221674877 valid loss 1.1210145091637969 valid acc 0.6978653530377669\n"
     ]
    },
    {
     "name": "stderr",
     "output_type": "stream",
     "text": [
      "100%|██████████| 77/77 [09:44<00:00,  7.59s/it, Epoch=20, Loss=0.690208]\n",
      "100%|██████████| 20/20 [00:48<00:00,  2.41s/it, Epoch=20, Loss=0.038912]"
     ]
    },
    {
     "name": "stdout",
     "output_type": "stream",
     "text": [
      "epochs 20 train loss 0.22202860128569912 train acc 0.9248768472906403 valid loss 1.1463076945394277 valid acc 0.6929392446633826\n"
     ]
    },
    {
     "name": "stderr",
     "output_type": "stream",
     "text": [
      "\n"
     ]
    }
   ],
   "source": [
    "#pretrain model\n",
    "for epoch in range(epochs):\n",
    "    net.train()\n",
    "    \n",
    "    train_loss = 0 \n",
    "    train_correct = 0\n",
    "    \n",
    "    tqdm_dataset = tqdm(train_loader)\n",
    "    for x,y in tqdm_dataset:\n",
    "        x = x.to(device)\n",
    "        y = y.to(device)\n",
    "        outputs = net(x)\n",
    "        loss = criterion(outputs,y)\n",
    "        \n",
    "        optimizer.zero_grad()\n",
    "        loss.backward()\n",
    "        optimizer.step()\n",
    "        \n",
    "        train_loss += loss.item()\n",
    "        _, predicted = outputs.max(1)\n",
    "        train_correct += predicted.eq(y).sum().item()\n",
    "        \n",
    "        tqdm_dataset.set_postfix({\n",
    "            'Epoch': epoch + 1,\n",
    "            'Loss': '{:06f}'.format(loss.item()),\n",
    "        })\n",
    "\n",
    "    train_loss = train_loss / train_batches\n",
    "    train_acc = train_correct / train_total\n",
    "    \n",
    "    net.eval()\n",
    "    \n",
    "    valid_loss = 0 \n",
    "    valid_correct = 0\n",
    "    tqdm_dataset = tqdm(valid_loader)\n",
    "    with torch.no_grad():\n",
    "        for x,y in tqdm_dataset:\n",
    "            x = x.to(device)\n",
    "            y = y.to(device)\n",
    "            \n",
    "            outputs = net(x)\n",
    "            loss = criterion(outputs, y)\n",
    "            valid_loss += loss.item()\n",
    "            _, predicted = outputs.max(1)\n",
    "            valid_correct += predicted.eq(y).sum().item()\n",
    "            \n",
    "            tqdm_dataset.set_postfix({\n",
    "                'Epoch': epoch + 1,\n",
    "                'Loss': '{:06f}'.format(loss.item()),\n",
    "            })\n",
    "            \n",
    "    valid_loss = valid_loss / valid_batches\n",
    "    valid_acc = valid_correct / valid_total\n",
    "        \n",
    "    print('epochs',epoch+1, 'train loss',train_loss,'train acc', train_acc, 'valid loss',valid_loss, 'valid acc',valid_acc)\n",
    "\n"
   ]
  },
  {
   "cell_type": "code",
   "execution_count": 16,
   "metadata": {
    "id": "TJx8M5q6-Pzh"
   },
   "outputs": [],
   "source": [
    "torch.save(net, 'model.pt')"
   ]
  },
  {
   "cell_type": "code",
   "execution_count": 17,
   "metadata": {
    "id": "-htmaX6L8Tai"
   },
   "outputs": [],
   "source": [
    "torch.save(net.state_dict(), 'model_state_dict.pt')"
   ]
  }
 ],
 "metadata": {
  "accelerator": "GPU",
  "colab": {
   "collapsed_sections": [],
   "provenance": []
  },
  "gpuClass": "premium",
  "kernelspec": {
   "display_name": "Python 3 (ipykernel)",
   "language": "python",
   "name": "python3"
  },
  "language_info": {
   "codemirror_mode": {
    "name": "ipython",
    "version": 3
   },
   "file_extension": ".py",
   "mimetype": "text/x-python",
   "name": "python",
   "nbconvert_exporter": "python",
   "pygments_lexer": "ipython3",
   "version": "3.9.13"
  },
  "widgets": {
   "application/vnd.jupyter.widget-state+json": {
    "01e511a0ab2f40aeb22b7bc64c77d74c": {
     "model_module": "@jupyter-widgets/controls",
     "model_module_version": "1.5.0",
     "model_name": "HBoxModel",
     "state": {
      "_dom_classes": [],
      "_model_module": "@jupyter-widgets/controls",
      "_model_module_version": "1.5.0",
      "_model_name": "HBoxModel",
      "_view_count": null,
      "_view_module": "@jupyter-widgets/controls",
      "_view_module_version": "1.5.0",
      "_view_name": "HBoxView",
      "box_style": "",
      "children": [
       "IPY_MODEL_bce23f49c3e34a51912036b81ed1257e",
       "IPY_MODEL_94f9b61eef8e44f9806c6a5158e9507e",
       "IPY_MODEL_118c6c3f545c4ad48b83f06ff9e2a63e"
      ],
      "layout": "IPY_MODEL_0eefafe63de945b895d996064e98edef"
     }
    },
    "0eefafe63de945b895d996064e98edef": {
     "model_module": "@jupyter-widgets/base",
     "model_module_version": "1.2.0",
     "model_name": "LayoutModel",
     "state": {
      "_model_module": "@jupyter-widgets/base",
      "_model_module_version": "1.2.0",
      "_model_name": "LayoutModel",
      "_view_count": null,
      "_view_module": "@jupyter-widgets/base",
      "_view_module_version": "1.2.0",
      "_view_name": "LayoutView",
      "align_content": null,
      "align_items": null,
      "align_self": null,
      "border": null,
      "bottom": null,
      "display": null,
      "flex": null,
      "flex_flow": null,
      "grid_area": null,
      "grid_auto_columns": null,
      "grid_auto_flow": null,
      "grid_auto_rows": null,
      "grid_column": null,
      "grid_gap": null,
      "grid_row": null,
      "grid_template_areas": null,
      "grid_template_columns": null,
      "grid_template_rows": null,
      "height": null,
      "justify_content": null,
      "justify_items": null,
      "left": null,
      "margin": null,
      "max_height": null,
      "max_width": null,
      "min_height": null,
      "min_width": null,
      "object_fit": null,
      "object_position": null,
      "order": null,
      "overflow": null,
      "overflow_x": null,
      "overflow_y": null,
      "padding": null,
      "right": null,
      "top": null,
      "visibility": null,
      "width": null
     }
    },
    "118c6c3f545c4ad48b83f06ff9e2a63e": {
     "model_module": "@jupyter-widgets/controls",
     "model_module_version": "1.5.0",
     "model_name": "HTMLModel",
     "state": {
      "_dom_classes": [],
      "_model_module": "@jupyter-widgets/controls",
      "_model_module_version": "1.5.0",
      "_model_name": "HTMLModel",
      "_view_count": null,
      "_view_module": "@jupyter-widgets/controls",
      "_view_module_version": "1.5.0",
      "_view_name": "HTMLView",
      "description": "",
      "description_tooltip": null,
      "layout": "IPY_MODEL_8286df5ded3d426f861368c1ef9bd33a",
      "placeholder": "​",
      "style": "IPY_MODEL_9b7ad5a64f984d47946a42a82069582d",
      "value": " 82.7M/82.7M [00:01&lt;00:00, 53.7MB/s]"
     }
    },
    "62a30131862540c6bb94db2b9020b4e0": {
     "model_module": "@jupyter-widgets/base",
     "model_module_version": "1.2.0",
     "model_name": "LayoutModel",
     "state": {
      "_model_module": "@jupyter-widgets/base",
      "_model_module_version": "1.2.0",
      "_model_name": "LayoutModel",
      "_view_count": null,
      "_view_module": "@jupyter-widgets/base",
      "_view_module_version": "1.2.0",
      "_view_name": "LayoutView",
      "align_content": null,
      "align_items": null,
      "align_self": null,
      "border": null,
      "bottom": null,
      "display": null,
      "flex": null,
      "flex_flow": null,
      "grid_area": null,
      "grid_auto_columns": null,
      "grid_auto_flow": null,
      "grid_auto_rows": null,
      "grid_column": null,
      "grid_gap": null,
      "grid_row": null,
      "grid_template_areas": null,
      "grid_template_columns": null,
      "grid_template_rows": null,
      "height": null,
      "justify_content": null,
      "justify_items": null,
      "left": null,
      "margin": null,
      "max_height": null,
      "max_width": null,
      "min_height": null,
      "min_width": null,
      "object_fit": null,
      "object_position": null,
      "order": null,
      "overflow": null,
      "overflow_x": null,
      "overflow_y": null,
      "padding": null,
      "right": null,
      "top": null,
      "visibility": null,
      "width": null
     }
    },
    "6d4afeb3f3094b2db0c2709140d61b80": {
     "model_module": "@jupyter-widgets/controls",
     "model_module_version": "1.5.0",
     "model_name": "DescriptionStyleModel",
     "state": {
      "_model_module": "@jupyter-widgets/controls",
      "_model_module_version": "1.5.0",
      "_model_name": "DescriptionStyleModel",
      "_view_count": null,
      "_view_module": "@jupyter-widgets/base",
      "_view_module_version": "1.2.0",
      "_view_name": "StyleView",
      "description_width": ""
     }
    },
    "8286df5ded3d426f861368c1ef9bd33a": {
     "model_module": "@jupyter-widgets/base",
     "model_module_version": "1.2.0",
     "model_name": "LayoutModel",
     "state": {
      "_model_module": "@jupyter-widgets/base",
      "_model_module_version": "1.2.0",
      "_model_name": "LayoutModel",
      "_view_count": null,
      "_view_module": "@jupyter-widgets/base",
      "_view_module_version": "1.2.0",
      "_view_name": "LayoutView",
      "align_content": null,
      "align_items": null,
      "align_self": null,
      "border": null,
      "bottom": null,
      "display": null,
      "flex": null,
      "flex_flow": null,
      "grid_area": null,
      "grid_auto_columns": null,
      "grid_auto_flow": null,
      "grid_auto_rows": null,
      "grid_column": null,
      "grid_gap": null,
      "grid_row": null,
      "grid_template_areas": null,
      "grid_template_columns": null,
      "grid_template_rows": null,
      "height": null,
      "justify_content": null,
      "justify_items": null,
      "left": null,
      "margin": null,
      "max_height": null,
      "max_width": null,
      "min_height": null,
      "min_width": null,
      "object_fit": null,
      "object_position": null,
      "order": null,
      "overflow": null,
      "overflow_x": null,
      "overflow_y": null,
      "padding": null,
      "right": null,
      "top": null,
      "visibility": null,
      "width": null
     }
    },
    "94f9b61eef8e44f9806c6a5158e9507e": {
     "model_module": "@jupyter-widgets/controls",
     "model_module_version": "1.5.0",
     "model_name": "FloatProgressModel",
     "state": {
      "_dom_classes": [],
      "_model_module": "@jupyter-widgets/controls",
      "_model_module_version": "1.5.0",
      "_model_name": "FloatProgressModel",
      "_view_count": null,
      "_view_module": "@jupyter-widgets/controls",
      "_view_module_version": "1.5.0",
      "_view_name": "ProgressView",
      "bar_style": "success",
      "description": "",
      "description_tooltip": null,
      "layout": "IPY_MODEL_62a30131862540c6bb94db2b9020b4e0",
      "max": 86721253,
      "min": 0,
      "orientation": "horizontal",
      "style": "IPY_MODEL_b748d0137f2d443e947b6cfd6579faeb",
      "value": 86721253
     }
    },
    "9b7ad5a64f984d47946a42a82069582d": {
     "model_module": "@jupyter-widgets/controls",
     "model_module_version": "1.5.0",
     "model_name": "DescriptionStyleModel",
     "state": {
      "_model_module": "@jupyter-widgets/controls",
      "_model_module_version": "1.5.0",
      "_model_name": "DescriptionStyleModel",
      "_view_count": null,
      "_view_module": "@jupyter-widgets/base",
      "_view_module_version": "1.2.0",
      "_view_name": "StyleView",
      "description_width": ""
     }
    },
    "b748d0137f2d443e947b6cfd6579faeb": {
     "model_module": "@jupyter-widgets/controls",
     "model_module_version": "1.5.0",
     "model_name": "ProgressStyleModel",
     "state": {
      "_model_module": "@jupyter-widgets/controls",
      "_model_module_version": "1.5.0",
      "_model_name": "ProgressStyleModel",
      "_view_count": null,
      "_view_module": "@jupyter-widgets/base",
      "_view_module_version": "1.2.0",
      "_view_name": "StyleView",
      "bar_color": null,
      "description_width": ""
     }
    },
    "bce23f49c3e34a51912036b81ed1257e": {
     "model_module": "@jupyter-widgets/controls",
     "model_module_version": "1.5.0",
     "model_name": "HTMLModel",
     "state": {
      "_dom_classes": [],
      "_model_module": "@jupyter-widgets/controls",
      "_model_module_version": "1.5.0",
      "_model_name": "HTMLModel",
      "_view_count": null,
      "_view_module": "@jupyter-widgets/controls",
      "_view_module_version": "1.5.0",
      "_view_name": "HTMLView",
      "description": "",
      "description_tooltip": null,
      "layout": "IPY_MODEL_ff5d47de7e634a429ae0da89d7c2d60b",
      "placeholder": "​",
      "style": "IPY_MODEL_6d4afeb3f3094b2db0c2709140d61b80",
      "value": "100%"
     }
    },
    "ff5d47de7e634a429ae0da89d7c2d60b": {
     "model_module": "@jupyter-widgets/base",
     "model_module_version": "1.2.0",
     "model_name": "LayoutModel",
     "state": {
      "_model_module": "@jupyter-widgets/base",
      "_model_module_version": "1.2.0",
      "_model_name": "LayoutModel",
      "_view_count": null,
      "_view_module": "@jupyter-widgets/base",
      "_view_module_version": "1.2.0",
      "_view_name": "LayoutView",
      "align_content": null,
      "align_items": null,
      "align_self": null,
      "border": null,
      "bottom": null,
      "display": null,
      "flex": null,
      "flex_flow": null,
      "grid_area": null,
      "grid_auto_columns": null,
      "grid_auto_flow": null,
      "grid_auto_rows": null,
      "grid_column": null,
      "grid_gap": null,
      "grid_row": null,
      "grid_template_areas": null,
      "grid_template_columns": null,
      "grid_template_rows": null,
      "height": null,
      "justify_content": null,
      "justify_items": null,
      "left": null,
      "margin": null,
      "max_height": null,
      "max_width": null,
      "min_height": null,
      "min_width": null,
      "object_fit": null,
      "object_position": null,
      "order": null,
      "overflow": null,
      "overflow_x": null,
      "overflow_y": null,
      "padding": null,
      "right": null,
      "top": null,
      "visibility": null,
      "width": null
     }
    }
   }
  }
 },
 "nbformat": 4,
 "nbformat_minor": 1
}
