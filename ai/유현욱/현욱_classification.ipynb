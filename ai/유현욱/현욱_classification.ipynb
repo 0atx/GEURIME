{
  "cells": [
    {
      "cell_type": "code",
      "execution_count": 19,
      "metadata": {
        "id": "YGDhUuF6Beai"
      },
      "outputs": [],
      "source": [
        "#필요한 library 들을 load 합니다.\n",
        "import os \n",
        "\n",
        "import random\n",
        "import numpy as np\n",
        "from tqdm import tqdm\n",
        "\n",
        "import torch\n",
        "from torchvision import datasets, models, transforms\n",
        "import torch.nn as nn\n",
        "from torch.nn import functional as F\n",
        "import torch.optim as optim\n",
        "import torchvision.transforms as transforms\n",
        "\n",
        "from multiprocessing import cpu_count\n",
        "from torch.utils.data import Dataset, DataLoader, SubsetRandomSampler\n",
        "from torch.nn import CrossEntropyLoss\n",
        "from torchvision.models import efficientnet_v2_s\n",
        "from torchvision.models import efficientnet_b0\n",
        "from torchvision.models.efficientnet import EfficientNet_V2_S_Weights\n",
        "from torchvision.models import EfficientNet_B0_Weights\n",
        "from sklearn.model_selection import train_test_split\n",
        "\n",
        "from PIL import Image"
      ]
    },
    {
      "cell_type": "code",
      "execution_count": 20,
      "metadata": {
        "colab": {
          "base_uri": "https://localhost:8080/"
        },
        "id": "9-7fiSdFBjpv",
        "outputId": "9d1920e2-35c0-4ade-fb66-30755bfbef8f"
      },
      "outputs": [
        {
          "output_type": "stream",
          "name": "stdout",
          "text": [
            "다음 기기로 학습합니다: cuda\n",
            "Drive already mounted at /content/jdrive/; to attempt to forcibly remount, call drive.mount(\"/content/jdrive/\", force_remount=True).\n"
          ]
        }
      ],
      "source": [
        "USE_CUDA = torch.cuda.is_available() # GPU를 사용가능하면 True, 아니라면 False를 리턴\n",
        "device = torch.device(\"cuda\" if USE_CUDA else \"cpu\") # GPU 사용 가능하면 사용하고 아니면 CPU 사용\n",
        "print(\"다음 기기로 학습합니다:\", device)\n",
        "\n",
        "from google.colab import drive\n",
        "drive.mount('/content/jdrive/')"
      ]
    },
    {
      "cell_type": "code",
      "execution_count": 21,
      "metadata": {
        "colab": {
          "base_uri": "https://localhost:8080/"
        },
        "id": "E_f4lIqpLDej",
        "outputId": "f7bd0d3b-f846-43ec-b07c-0fc1c86e9f85"
      },
      "outputs": [
        {
          "output_type": "stream",
          "name": "stdout",
          "text": [
            "/content\n"
          ]
        }
      ],
      "source": [
        "%cd /content"
      ]
    },
    {
      "cell_type": "code",
      "execution_count": 32,
      "metadata": {
        "id": "Ubs4A5WPLzoE"
      },
      "outputs": [],
      "source": [
        "!rm -rf /content/image"
      ]
    },
    {
      "cell_type": "code",
      "execution_count": 33,
      "metadata": {
        "id": "sZAjHedgL_yr"
      },
      "outputs": [],
      "source": [
        "!rm -rf /content/__MACOSX"
      ]
    },
    {
      "cell_type": "code",
      "execution_count": 34,
      "metadata": {
        "id": "19I9EVzLJYDb"
      },
      "outputs": [],
      "source": [
        "!unzip -qq /content/jdrive/MyDrive/Colab\\ Notebooks/image.zip\n"
      ]
    },
    {
      "cell_type": "code",
      "execution_count": 24,
      "metadata": {
        "id": "nzLuJ9cnCQB6"
      },
      "outputs": [],
      "source": [
        "transform = transforms.Compose([\n",
        "    transforms.ToTensor(), #이미지 데이터를 tensor 데이터 포멧으로 바꾸어줍니다.\n",
        "    transforms.Resize([224,224]), #이미지의 크기가 다를 수 있으니 크기를 통일해 줍니다.\n",
        "    \n",
        "    transforms.RandomHorizontalFlip(),\n",
        "    transforms.RandomVerticalFlip(),\n",
        "    transforms.Normalize(mean=(0.52273315, 0.52848613, 0.5472654), std=(0.21402003, 0.202031, 0.22438332)) # 이미지들의 픽셀 r, g, b의 평균 => 아래 코드에 구하는 부분있으니 참고할 것\n",
        "])"
      ]
    },
    {
      "cell_type": "code",
      "execution_count": 35,
      "metadata": {
        "id": "O64tRJAjCWOD"
      },
      "outputs": [],
      "source": [
        "train_data = datasets.ImageFolder(root='./image/',transform=transform)"
      ]
    },
    {
      "cell_type": "code",
      "execution_count": 36,
      "metadata": {
        "id": "_noEcb89CwI7"
      },
      "outputs": [],
      "source": [
        "train_idx, valid_idx = train_test_split(np.arange(len(train_data)), test_size=0.2, train_size = 0.8,\n",
        "                                        random_state=42, shuffle=True, stratify=train_data.targets)"
      ]
    },
    {
      "cell_type": "code",
      "execution_count": 37,
      "metadata": {
        "id": "nYQBXnjaDF-4"
      },
      "outputs": [],
      "source": [
        "batch_size = 32 #batchsize는 2의배수롤 설정하시면 되는데 데이터 크기가 클수록 batch_size도 키워주시면 됩니다. 보통 32,64 사용하시면됩니다. 이 이상키우시면 cuda가 메모리양을 감당못하고 꺼질수있습니다.\n",
        "num_workers = 1"
      ]
    },
    {
      "cell_type": "code",
      "execution_count": 38,
      "metadata": {
        "id": "i9q71i5zDIWW"
      },
      "outputs": [],
      "source": [
        "train_loader = DataLoader(train_data, batch_size=batch_size, \n",
        "                          sampler=SubsetRandomSampler(train_idx), num_workers=num_workers)\n",
        "valid_loader = DataLoader(train_data, batch_size=batch_size, \n",
        "                          sampler=SubsetRandomSampler(valid_idx), num_workers=num_workers)"
      ]
    },
    {
      "cell_type": "markdown",
      "metadata": {
        "id": "Z8s6rC90jvfa"
      },
      "source": []
    },
    {
      "cell_type": "code",
      "execution_count": 39,
      "metadata": {
        "id": "B3wZPebcDKsx"
      },
      "outputs": [],
      "source": [
        "train_total = len(train_idx)\n",
        "valid_total = len(valid_idx)\n",
        "\n",
        "train_batches = len(train_loader)\n",
        "valid_batches = len(valid_loader)"
      ]
    },
    {
      "cell_type": "code",
      "execution_count": 40,
      "metadata": {
        "colab": {
          "base_uri": "https://localhost:8080/"
        },
        "id": "FT-hcqGQDMe2",
        "outputId": "2040260b-8bbe-42e2-d017-acf944fe9ff3"
      },
      "outputs": [
        {
          "output_type": "stream",
          "name": "stdout",
          "text": [
            "total train imgs : 2436 / total train batches : 77\n",
            "total valid imgs : 609 / total valid batches : 20\n"
          ]
        }
      ],
      "source": [
        "print('total train imgs :',train_total,'/ total train batches :', train_batches)\n",
        "print('total valid imgs :',valid_total, '/ total valid batches :', valid_batches)"
      ]
    },
    {
      "cell_type": "code",
      "execution_count": null,
      "metadata": {
        "id": "h11p6gkWUAfv",
        "colab": {
          "base_uri": "https://localhost:8080/"
        },
        "outputId": "283cb11e-27e1-4b51-9674-ce79e512c80b"
      },
      "outputs": [
        {
          "output_type": "stream",
          "name": "stdout",
          "text": [
            "0.52273315 0.52848613 0.5472654\n",
            "0.21402003 0.202031 0.22438332\n"
          ]
        }
      ],
      "source": [
        "# import numpy as np\n",
        "\n",
        "# meanRGB = [np.mean(x.numpy(), axis=(1,2)) for x,_ in train_loader]\n",
        "# stdRGB = [np.std(x.numpy(), axis=(1,2)) for x,_ in train_loader]\n",
        "\n",
        "# meanR = np.mean([m[0] for m in meanRGB])\n",
        "# meanG = np.mean([m[1] for m in meanRGB])\n",
        "# meanB = np.mean([m[2] for m in meanRGB])\n",
        "\n",
        "# stdR = np.mean([s[0] for s in stdRGB])\n",
        "# stdG = np.mean([s[1] for s in stdRGB])\n",
        "# stdB = np.mean([s[2] for s in stdRGB])\n",
        "\n",
        "# print(meanR, meanG, meanB)\n",
        "# print(stdR, stdG, stdB)"
      ]
    },
    {
      "cell_type": "code",
      "execution_count": 41,
      "metadata": {
        "id": "dWnXewZKxwhO"
      },
      "outputs": [],
      "source": [
        "class PretrainModel(nn.Module):\n",
        "    def __init__(self, pretrained):\n",
        "        super().__init__()\n",
        "        self.pretrained = pretrained\n",
        "        self.FC = nn.Linear(1000,6)\n",
        "    \n",
        "    def forward(self,x):\n",
        "        x = self.pretrained(x)\n",
        "        x = self.FC(x)\n",
        "        return x"
      ]
    },
    {
      "cell_type": "code",
      "execution_count": 42,
      "metadata": {
        "id": "GzP9sZE8DOwS",
        "colab": {
          "base_uri": "https://localhost:8080/",
          "height": 67,
          "referenced_widgets": [
            "01e511a0ab2f40aeb22b7bc64c77d74c",
            "bce23f49c3e34a51912036b81ed1257e",
            "94f9b61eef8e44f9806c6a5158e9507e",
            "118c6c3f545c4ad48b83f06ff9e2a63e",
            "0eefafe63de945b895d996064e98edef",
            "ff5d47de7e634a429ae0da89d7c2d60b",
            "6d4afeb3f3094b2db0c2709140d61b80",
            "62a30131862540c6bb94db2b9020b4e0",
            "b748d0137f2d443e947b6cfd6579faeb",
            "8286df5ded3d426f861368c1ef9bd33a",
            "9b7ad5a64f984d47946a42a82069582d"
          ]
        },
        "outputId": "9b18444f-1d21-4f3e-ceae-6771cef755d9"
      },
      "outputs": [
        {
          "output_type": "stream",
          "name": "stderr",
          "text": [
            "Downloading: \"https://download.pytorch.org/models/efficientnet_v2_s-dd5fe13b.pth\" to /root/.cache/torch/hub/checkpoints/efficientnet_v2_s-dd5fe13b.pth\n"
          ]
        },
        {
          "output_type": "display_data",
          "data": {
            "text/plain": [
              "  0%|          | 0.00/82.7M [00:00<?, ?B/s]"
            ],
            "application/vnd.jupyter.widget-view+json": {
              "version_major": 2,
              "version_minor": 0,
              "model_id": "01e511a0ab2f40aeb22b7bc64c77d74c"
            }
          },
          "metadata": {}
        }
      ],
      "source": [
        "weights = EfficientNet_V2_S_Weights.IMAGENET1K_V1\n",
        "pretrained = efficientnet_v2_s(weights = weights)"
      ]
    },
    {
      "cell_type": "code",
      "execution_count": 43,
      "metadata": {
        "id": "IsBj1Qx2DVvw"
      },
      "outputs": [],
      "source": [
        "net = PretrainModel(pretrained).to(device)"
      ]
    },
    {
      "cell_type": "code",
      "execution_count": 44,
      "metadata": {
        "id": "YuBlk9pkDYRk"
      },
      "outputs": [],
      "source": [
        "criterion = CrossEntropyLoss().to(device)\n",
        "#criterion = nn.BCEWithLogitsLoss().to(device)\n",
        "optimizer = optim.AdamW(params=net.parameters(), lr=0.001)\n",
        "#optimizer = torch.optim.SGD(params=net.parameters(), lr = 0.001)\n",
        "epochs = 20"
      ]
    },
    {
      "cell_type": "code",
      "execution_count": null,
      "metadata": {
        "colab": {
          "background_save": true,
          "base_uri": "https://localhost:8080/"
        },
        "id": "5G1JucWpDago",
        "outputId": "05e43dbb-f5b7-409b-fbe3-1fd3f0c9cbe4"
      },
      "outputs": [
        {
          "output_type": "stream",
          "name": "stderr",
          "text": [
            "100%|██████████| 77/77 [01:09<00:00,  1.10it/s, Epoch=1, Loss=1.150864]\n",
            "100%|██████████| 20/20 [00:14<00:00,  1.34it/s, Epoch=1, Loss=0.347383]\n"
          ]
        },
        {
          "output_type": "stream",
          "name": "stdout",
          "text": [
            "epochs 1 train loss 1.4275048878285792 train acc 0.458128078817734 valid loss 1.1920329257845879 valid acc 0.5451559934318555\n"
          ]
        },
        {
          "output_type": "stream",
          "name": "stderr",
          "text": [
            "100%|██████████| 77/77 [01:00<00:00,  1.27it/s, Epoch=2, Loss=1.529539]\n",
            "100%|██████████| 20/20 [00:14<00:00,  1.35it/s, Epoch=2, Loss=1.205873]\n"
          ]
        },
        {
          "output_type": "stream",
          "name": "stdout",
          "text": [
            "epochs 2 train loss 1.110743418142393 train acc 0.5862068965517241 valid loss 1.322697040438652 valid acc 0.555008210180624\n"
          ]
        },
        {
          "output_type": "stream",
          "name": "stderr",
          "text": [
            " 14%|█▍        | 11/77 [00:09<00:51,  1.29it/s, Epoch=3, Loss=1.173350]"
          ]
        }
      ],
      "source": [
        "#pretrain model\n",
        "for epoch in range(epochs):\n",
        "    net.train()\n",
        "    \n",
        "    train_loss = 0 \n",
        "    train_correct = 0\n",
        "    \n",
        "    tqdm_dataset = tqdm(train_loader)\n",
        "    for x,y in tqdm_dataset:\n",
        "        x = x.to(device)\n",
        "        y = y.to(device)\n",
        "        outputs = net(x)\n",
        "        loss = criterion(outputs,y)\n",
        "        \n",
        "        optimizer.zero_grad()\n",
        "        loss.backward()\n",
        "        optimizer.step()\n",
        "        \n",
        "        train_loss += loss.item()\n",
        "        _, predicted = outputs.max(1)\n",
        "        train_correct += predicted.eq(y).sum().item()\n",
        "        \n",
        "        tqdm_dataset.set_postfix({\n",
        "            'Epoch': epoch + 1,\n",
        "            'Loss': '{:06f}'.format(loss.item()),\n",
        "        })\n",
        "\n",
        "    train_loss = train_loss / train_batches\n",
        "    train_acc = train_correct / train_total\n",
        "    \n",
        "    net.eval()\n",
        "    \n",
        "    valid_loss = 0 \n",
        "    valid_correct = 0\n",
        "    tqdm_dataset = tqdm(valid_loader)\n",
        "    with torch.no_grad():\n",
        "        for x,y in tqdm_dataset:\n",
        "            x = x.to(device)\n",
        "            y = y.to(device)\n",
        "            \n",
        "            outputs = net(x)\n",
        "            loss = criterion(outputs, y)\n",
        "            valid_loss += loss.item()\n",
        "            _, predicted = outputs.max(1)\n",
        "            valid_correct += predicted.eq(y).sum().item()\n",
        "            \n",
        "            tqdm_dataset.set_postfix({\n",
        "                'Epoch': epoch + 1,\n",
        "                'Loss': '{:06f}'.format(loss.item()),\n",
        "            })\n",
        "            \n",
        "    valid_loss = valid_loss / valid_batches\n",
        "    valid_acc = valid_correct / valid_total\n",
        "        \n",
        "    print('epochs',epoch+1, 'train loss',train_loss,'train acc', train_acc, 'valid loss',valid_loss, 'valid acc',valid_acc)\n",
        "\n"
      ]
    },
    {
      "cell_type": "code",
      "source": [],
      "metadata": {
        "id": "TJx8M5q6-Pzh"
      },
      "execution_count": null,
      "outputs": []
    },
    {
      "cell_type": "code",
      "execution_count": null,
      "metadata": {
        "id": "-htmaX6L8Tai"
      },
      "outputs": [],
      "source": []
    }
  ],
  "metadata": {
    "accelerator": "GPU",
    "colab": {
      "collapsed_sections": [],
      "provenance": []
    },
    "gpuClass": "premium",
    "kernelspec": {
      "display_name": "Python 3",
      "name": "python3"
    },
    "language_info": {
      "name": "python"
    },
    "widgets": {
      "application/vnd.jupyter.widget-state+json": {
        "01e511a0ab2f40aeb22b7bc64c77d74c": {
          "model_module": "@jupyter-widgets/controls",
          "model_name": "HBoxModel",
          "model_module_version": "1.5.0",
          "state": {
            "_dom_classes": [],
            "_model_module": "@jupyter-widgets/controls",
            "_model_module_version": "1.5.0",
            "_model_name": "HBoxModel",
            "_view_count": null,
            "_view_module": "@jupyter-widgets/controls",
            "_view_module_version": "1.5.0",
            "_view_name": "HBoxView",
            "box_style": "",
            "children": [
              "IPY_MODEL_bce23f49c3e34a51912036b81ed1257e",
              "IPY_MODEL_94f9b61eef8e44f9806c6a5158e9507e",
              "IPY_MODEL_118c6c3f545c4ad48b83f06ff9e2a63e"
            ],
            "layout": "IPY_MODEL_0eefafe63de945b895d996064e98edef"
          }
        },
        "bce23f49c3e34a51912036b81ed1257e": {
          "model_module": "@jupyter-widgets/controls",
          "model_name": "HTMLModel",
          "model_module_version": "1.5.0",
          "state": {
            "_dom_classes": [],
            "_model_module": "@jupyter-widgets/controls",
            "_model_module_version": "1.5.0",
            "_model_name": "HTMLModel",
            "_view_count": null,
            "_view_module": "@jupyter-widgets/controls",
            "_view_module_version": "1.5.0",
            "_view_name": "HTMLView",
            "description": "",
            "description_tooltip": null,
            "layout": "IPY_MODEL_ff5d47de7e634a429ae0da89d7c2d60b",
            "placeholder": "​",
            "style": "IPY_MODEL_6d4afeb3f3094b2db0c2709140d61b80",
            "value": "100%"
          }
        },
        "94f9b61eef8e44f9806c6a5158e9507e": {
          "model_module": "@jupyter-widgets/controls",
          "model_name": "FloatProgressModel",
          "model_module_version": "1.5.0",
          "state": {
            "_dom_classes": [],
            "_model_module": "@jupyter-widgets/controls",
            "_model_module_version": "1.5.0",
            "_model_name": "FloatProgressModel",
            "_view_count": null,
            "_view_module": "@jupyter-widgets/controls",
            "_view_module_version": "1.5.0",
            "_view_name": "ProgressView",
            "bar_style": "success",
            "description": "",
            "description_tooltip": null,
            "layout": "IPY_MODEL_62a30131862540c6bb94db2b9020b4e0",
            "max": 86721253,
            "min": 0,
            "orientation": "horizontal",
            "style": "IPY_MODEL_b748d0137f2d443e947b6cfd6579faeb",
            "value": 86721253
          }
        },
        "118c6c3f545c4ad48b83f06ff9e2a63e": {
          "model_module": "@jupyter-widgets/controls",
          "model_name": "HTMLModel",
          "model_module_version": "1.5.0",
          "state": {
            "_dom_classes": [],
            "_model_module": "@jupyter-widgets/controls",
            "_model_module_version": "1.5.0",
            "_model_name": "HTMLModel",
            "_view_count": null,
            "_view_module": "@jupyter-widgets/controls",
            "_view_module_version": "1.5.0",
            "_view_name": "HTMLView",
            "description": "",
            "description_tooltip": null,
            "layout": "IPY_MODEL_8286df5ded3d426f861368c1ef9bd33a",
            "placeholder": "​",
            "style": "IPY_MODEL_9b7ad5a64f984d47946a42a82069582d",
            "value": " 82.7M/82.7M [00:01&lt;00:00, 53.7MB/s]"
          }
        },
        "0eefafe63de945b895d996064e98edef": {
          "model_module": "@jupyter-widgets/base",
          "model_name": "LayoutModel",
          "model_module_version": "1.2.0",
          "state": {
            "_model_module": "@jupyter-widgets/base",
            "_model_module_version": "1.2.0",
            "_model_name": "LayoutModel",
            "_view_count": null,
            "_view_module": "@jupyter-widgets/base",
            "_view_module_version": "1.2.0",
            "_view_name": "LayoutView",
            "align_content": null,
            "align_items": null,
            "align_self": null,
            "border": null,
            "bottom": null,
            "display": null,
            "flex": null,
            "flex_flow": null,
            "grid_area": null,
            "grid_auto_columns": null,
            "grid_auto_flow": null,
            "grid_auto_rows": null,
            "grid_column": null,
            "grid_gap": null,
            "grid_row": null,
            "grid_template_areas": null,
            "grid_template_columns": null,
            "grid_template_rows": null,
            "height": null,
            "justify_content": null,
            "justify_items": null,
            "left": null,
            "margin": null,
            "max_height": null,
            "max_width": null,
            "min_height": null,
            "min_width": null,
            "object_fit": null,
            "object_position": null,
            "order": null,
            "overflow": null,
            "overflow_x": null,
            "overflow_y": null,
            "padding": null,
            "right": null,
            "top": null,
            "visibility": null,
            "width": null
          }
        },
        "ff5d47de7e634a429ae0da89d7c2d60b": {
          "model_module": "@jupyter-widgets/base",
          "model_name": "LayoutModel",
          "model_module_version": "1.2.0",
          "state": {
            "_model_module": "@jupyter-widgets/base",
            "_model_module_version": "1.2.0",
            "_model_name": "LayoutModel",
            "_view_count": null,
            "_view_module": "@jupyter-widgets/base",
            "_view_module_version": "1.2.0",
            "_view_name": "LayoutView",
            "align_content": null,
            "align_items": null,
            "align_self": null,
            "border": null,
            "bottom": null,
            "display": null,
            "flex": null,
            "flex_flow": null,
            "grid_area": null,
            "grid_auto_columns": null,
            "grid_auto_flow": null,
            "grid_auto_rows": null,
            "grid_column": null,
            "grid_gap": null,
            "grid_row": null,
            "grid_template_areas": null,
            "grid_template_columns": null,
            "grid_template_rows": null,
            "height": null,
            "justify_content": null,
            "justify_items": null,
            "left": null,
            "margin": null,
            "max_height": null,
            "max_width": null,
            "min_height": null,
            "min_width": null,
            "object_fit": null,
            "object_position": null,
            "order": null,
            "overflow": null,
            "overflow_x": null,
            "overflow_y": null,
            "padding": null,
            "right": null,
            "top": null,
            "visibility": null,
            "width": null
          }
        },
        "6d4afeb3f3094b2db0c2709140d61b80": {
          "model_module": "@jupyter-widgets/controls",
          "model_name": "DescriptionStyleModel",
          "model_module_version": "1.5.0",
          "state": {
            "_model_module": "@jupyter-widgets/controls",
            "_model_module_version": "1.5.0",
            "_model_name": "DescriptionStyleModel",
            "_view_count": null,
            "_view_module": "@jupyter-widgets/base",
            "_view_module_version": "1.2.0",
            "_view_name": "StyleView",
            "description_width": ""
          }
        },
        "62a30131862540c6bb94db2b9020b4e0": {
          "model_module": "@jupyter-widgets/base",
          "model_name": "LayoutModel",
          "model_module_version": "1.2.0",
          "state": {
            "_model_module": "@jupyter-widgets/base",
            "_model_module_version": "1.2.0",
            "_model_name": "LayoutModel",
            "_view_count": null,
            "_view_module": "@jupyter-widgets/base",
            "_view_module_version": "1.2.0",
            "_view_name": "LayoutView",
            "align_content": null,
            "align_items": null,
            "align_self": null,
            "border": null,
            "bottom": null,
            "display": null,
            "flex": null,
            "flex_flow": null,
            "grid_area": null,
            "grid_auto_columns": null,
            "grid_auto_flow": null,
            "grid_auto_rows": null,
            "grid_column": null,
            "grid_gap": null,
            "grid_row": null,
            "grid_template_areas": null,
            "grid_template_columns": null,
            "grid_template_rows": null,
            "height": null,
            "justify_content": null,
            "justify_items": null,
            "left": null,
            "margin": null,
            "max_height": null,
            "max_width": null,
            "min_height": null,
            "min_width": null,
            "object_fit": null,
            "object_position": null,
            "order": null,
            "overflow": null,
            "overflow_x": null,
            "overflow_y": null,
            "padding": null,
            "right": null,
            "top": null,
            "visibility": null,
            "width": null
          }
        },
        "b748d0137f2d443e947b6cfd6579faeb": {
          "model_module": "@jupyter-widgets/controls",
          "model_name": "ProgressStyleModel",
          "model_module_version": "1.5.0",
          "state": {
            "_model_module": "@jupyter-widgets/controls",
            "_model_module_version": "1.5.0",
            "_model_name": "ProgressStyleModel",
            "_view_count": null,
            "_view_module": "@jupyter-widgets/base",
            "_view_module_version": "1.2.0",
            "_view_name": "StyleView",
            "bar_color": null,
            "description_width": ""
          }
        },
        "8286df5ded3d426f861368c1ef9bd33a": {
          "model_module": "@jupyter-widgets/base",
          "model_name": "LayoutModel",
          "model_module_version": "1.2.0",
          "state": {
            "_model_module": "@jupyter-widgets/base",
            "_model_module_version": "1.2.0",
            "_model_name": "LayoutModel",
            "_view_count": null,
            "_view_module": "@jupyter-widgets/base",
            "_view_module_version": "1.2.0",
            "_view_name": "LayoutView",
            "align_content": null,
            "align_items": null,
            "align_self": null,
            "border": null,
            "bottom": null,
            "display": null,
            "flex": null,
            "flex_flow": null,
            "grid_area": null,
            "grid_auto_columns": null,
            "grid_auto_flow": null,
            "grid_auto_rows": null,
            "grid_column": null,
            "grid_gap": null,
            "grid_row": null,
            "grid_template_areas": null,
            "grid_template_columns": null,
            "grid_template_rows": null,
            "height": null,
            "justify_content": null,
            "justify_items": null,
            "left": null,
            "margin": null,
            "max_height": null,
            "max_width": null,
            "min_height": null,
            "min_width": null,
            "object_fit": null,
            "object_position": null,
            "order": null,
            "overflow": null,
            "overflow_x": null,
            "overflow_y": null,
            "padding": null,
            "right": null,
            "top": null,
            "visibility": null,
            "width": null
          }
        },
        "9b7ad5a64f984d47946a42a82069582d": {
          "model_module": "@jupyter-widgets/controls",
          "model_name": "DescriptionStyleModel",
          "model_module_version": "1.5.0",
          "state": {
            "_model_module": "@jupyter-widgets/controls",
            "_model_module_version": "1.5.0",
            "_model_name": "DescriptionStyleModel",
            "_view_count": null,
            "_view_module": "@jupyter-widgets/base",
            "_view_module_version": "1.2.0",
            "_view_name": "StyleView",
            "description_width": ""
          }
        }
      }
    }
  },
  "nbformat": 4,
  "nbformat_minor": 0
}